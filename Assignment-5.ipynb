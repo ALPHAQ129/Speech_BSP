{
 "cells": [
  {
   "cell_type": "code",
   "execution_count": 1,
   "id": "c0a01869",
   "metadata": {},
   "outputs": [],
   "source": [
    "import librosa\n",
    "import numpy as np"
   ]
  },
  {
   "cell_type": "markdown",
   "id": "5224e39d",
   "metadata": {},
   "source": [
    "# All Utterences for Digit \"0\""
   ]
  },
  {
   "cell_type": "code",
   "execution_count": 2,
   "id": "3ed6f447",
   "metadata": {},
   "outputs": [
    {
     "name": "stdout",
     "output_type": "stream",
     "text": [
      "(5, 13, 39)\n"
     ]
    }
   ],
   "source": [
    "# Load Audio file From Training Folder\n",
    "\n",
    "# Speaker Id =1, Digit = 0, All the Utterences\n",
    "\n",
    "audio_files = ['/Users/arnav/Desktop/Assignment/Assignment-5/training/speaker01_0_1.wav',\n",
    "              '/Users/arnav/Desktop/Assignment/Assignment-5/training/speaker01_0_2.wav',\n",
    "              '/Users/arnav/Desktop/Assignment/Assignment-5/training/speaker01_0_3.wav',\n",
    "              '/Users/arnav/Desktop/Assignment/Assignment-5/training/speaker01_0_4.wav',\n",
    "              '/Users/arnav/Desktop/Assignment/Assignment-5/training/speaker01_0_5.wav']\n",
    "\n",
    "mfcc_features = []\n",
    "max_length = 0\n",
    "\n",
    "for file_path in audio_files:\n",
    "    signal, sr = librosa.load(file_path)\n",
    "    mfcc = librosa.feature.mfcc(y = signal, sr=sr, n_mfcc=13)\n",
    "    mfcc_features.append(mfcc)\n",
    "    if mfcc.shape[1]>max_length :\n",
    "        max_length = mfcc.shape[1]\n",
    "        \n",
    "# Pad the MFCC coefficients with zeros\n",
    "\n",
    "padded_mfcc_list = []\n",
    "\n",
    "for mfcc in mfcc_features:\n",
    "    if mfcc.shape[1] < max_length:\n",
    "        pad_width = ((0, 0), (0, max_length - mfcc.shape[1]))\n",
    "        padded_mfcc = np.pad(mfcc, pad_width=pad_width, mode='constant', constant_values=0)\n",
    "        padded_mfcc_list.append(padded_mfcc)\n",
    "    else:\n",
    "        padded_mfcc_list.append(mfcc)\n",
    "\n",
    "# Stack the MFCC features for all repetitions of digit '0', speaker 1\n",
    "\n",
    "digit_0_speaker_1 = np.stack(padded_mfcc_list, axis=0)\n",
    "print(digit_0_speaker_1.shape)"
   ]
  },
  {
   "cell_type": "code",
   "execution_count": 3,
   "id": "cf01dcb3",
   "metadata": {},
   "outputs": [
    {
     "name": "stdout",
     "output_type": "stream",
     "text": [
      "(5, 13, 34)\n"
     ]
    }
   ],
   "source": [
    "# Load Audio file From Training Folder\n",
    "\n",
    "# Speaker Id = 2, Digit = 0, All the Utterences\n",
    "\n",
    "audio_files = ['/Users/arnav/Desktop/Assignment/Assignment-5/training/speaker02_0_1.wav',\n",
    "              '/Users/arnav/Desktop/Assignment/Assignment-5/training/speaker02_0_2.wav',\n",
    "              '/Users/arnav/Desktop/Assignment/Assignment-5/training/speaker02_0_3.wav',\n",
    "              '/Users/arnav/Desktop/Assignment/Assignment-5/training/speaker02_0_4.wav',\n",
    "              '/Users/arnav/Desktop/Assignment/Assignment-5/training/speaker02_0_5.wav']\n",
    "\n",
    "mfcc_features = []\n",
    "max_length = 0\n",
    "\n",
    "for file_path in audio_files:\n",
    "    signal, sr = librosa.load(file_path)\n",
    "    mfcc = librosa.feature.mfcc(y = signal, sr=sr, n_mfcc=13)\n",
    "    mfcc_features.append(mfcc)\n",
    "    if mfcc.shape[1]>max_length :\n",
    "        max_length = mfcc.shape[1]\n",
    "        \n",
    "# Pad the MFCC coefficients with zeros\n",
    "\n",
    "padded_mfcc_list = []\n",
    "\n",
    "for mfcc in mfcc_features:\n",
    "    if mfcc.shape[1] < max_length:\n",
    "        pad_width = ((0, 0), (0, max_length - mfcc.shape[1]))\n",
    "        padded_mfcc = np.pad(mfcc, pad_width=pad_width, mode='constant', constant_values=0)\n",
    "        padded_mfcc_list.append(padded_mfcc)\n",
    "    else:\n",
    "        padded_mfcc_list.append(mfcc)\n",
    "\n",
    "# Stack the MFCC features for all repetitions of digit '0', speaker 1\n",
    "\n",
    "digit_0_speaker_2 = np.stack(padded_mfcc_list, axis=0)\n",
    "print(digit_0_speaker_2.shape)"
   ]
  },
  {
   "cell_type": "code",
   "execution_count": 4,
   "id": "f0093c82",
   "metadata": {},
   "outputs": [
    {
     "name": "stdout",
     "output_type": "stream",
     "text": [
      "(5, 13, 37)\n"
     ]
    }
   ],
   "source": [
    "# Load Audio file From Training Folder\n",
    "\n",
    "# Speaker Id = 3, Digit = 0, All the Utterences\n",
    "\n",
    "audio_files = ['/Users/arnav/Desktop/Assignment/Assignment-5/training/speaker03_0_1.wav',\n",
    "              '/Users/arnav/Desktop/Assignment/Assignment-5/training/speaker03_0_2.wav',\n",
    "              '/Users/arnav/Desktop/Assignment/Assignment-5/training/speaker03_0_3.wav',\n",
    "              '/Users/arnav/Desktop/Assignment/Assignment-5/training/speaker03_0_4.wav',\n",
    "              '/Users/arnav/Desktop/Assignment/Assignment-5/training/speaker03_0_5.wav']\n",
    "\n",
    "mfcc_features = []\n",
    "max_length = 0\n",
    "\n",
    "for file_path in audio_files:\n",
    "    signal, sr = librosa.load(file_path)\n",
    "    mfcc = librosa.feature.mfcc(y = signal, sr=sr, n_mfcc=13)\n",
    "    mfcc_features.append(mfcc)\n",
    "    if mfcc.shape[1]>max_length :\n",
    "        max_length = mfcc.shape[1]\n",
    "        \n",
    "# Pad the MFCC coefficients with zeros\n",
    "\n",
    "padded_mfcc_list = []\n",
    "\n",
    "for mfcc in mfcc_features:\n",
    "    if mfcc.shape[1] < max_length:\n",
    "        pad_width = ((0, 0), (0, max_length - mfcc.shape[1]))\n",
    "        padded_mfcc = np.pad(mfcc, pad_width=pad_width, mode='constant', constant_values=0)\n",
    "        padded_mfcc_list.append(padded_mfcc)\n",
    "    else:\n",
    "        padded_mfcc_list.append(mfcc)\n",
    "\n",
    "# Stack the MFCC features for all repetitions of digit '0', speaker 1\n",
    "\n",
    "digit_0_speaker_3 = np.stack(padded_mfcc_list, axis=0)\n",
    "print(digit_0_speaker_3.shape)"
   ]
  },
  {
   "cell_type": "code",
   "execution_count": 5,
   "id": "4a908c56",
   "metadata": {},
   "outputs": [
    {
     "name": "stdout",
     "output_type": "stream",
     "text": [
      "(5, 13, 38)\n"
     ]
    }
   ],
   "source": [
    "# Load Audio file From Training Folder\n",
    "\n",
    "# Speaker Id = 4, Digit = 0, All the Utterences\n",
    "\n",
    "audio_files = ['/Users/arnav/Desktop/Assignment/Assignment-5/training/speaker04_0_1.wav',\n",
    "              '/Users/arnav/Desktop/Assignment/Assignment-5/training/speaker04_0_2.wav',\n",
    "              '/Users/arnav/Desktop/Assignment/Assignment-5/training/speaker04_0_3.wav',\n",
    "              '/Users/arnav/Desktop/Assignment/Assignment-5/training/speaker04_0_4.wav',\n",
    "              '/Users/arnav/Desktop/Assignment/Assignment-5/training/speaker04_0_5.wav']\n",
    "\n",
    "mfcc_features = []\n",
    "max_length = 0\n",
    "\n",
    "for file_path in audio_files:\n",
    "    signal, sr = librosa.load(file_path)\n",
    "    mfcc = librosa.feature.mfcc(y = signal, sr=sr, n_mfcc=13)\n",
    "    mfcc_features.append(mfcc)\n",
    "    if mfcc.shape[1]>max_length :\n",
    "        max_length = mfcc.shape[1]\n",
    "        \n",
    "# Pad the MFCC coefficients with zeros\n",
    "\n",
    "padded_mfcc_list = []\n",
    "\n",
    "for mfcc in mfcc_features:\n",
    "    if mfcc.shape[1] < max_length:\n",
    "        pad_width = ((0, 0), (0, max_length - mfcc.shape[1]))\n",
    "        padded_mfcc = np.pad(mfcc, pad_width=pad_width, mode='constant', constant_values=0)\n",
    "        padded_mfcc_list.append(padded_mfcc)\n",
    "    else:\n",
    "        padded_mfcc_list.append(mfcc)\n",
    "\n",
    "# Stack the MFCC features for all repetitions of digit '0', speaker 1\n",
    "\n",
    "digit_0_speaker_4 = np.stack(padded_mfcc_list, axis=0)\n",
    "print(digit_0_speaker_4.shape)"
   ]
  },
  {
   "cell_type": "code",
   "execution_count": 6,
   "id": "a96bbb00",
   "metadata": {},
   "outputs": [
    {
     "name": "stdout",
     "output_type": "stream",
     "text": [
      "(5, 13, 32)\n"
     ]
    }
   ],
   "source": [
    "# Load Audio file From Training Folder\n",
    "\n",
    "# Speaker Id = 5, Digit = 0, All the Utterences\n",
    "\n",
    "audio_files = ['/Users/arnav/Desktop/Assignment/Assignment-5/training/speaker05_0_1.wav',\n",
    "              '/Users/arnav/Desktop/Assignment/Assignment-5/training/speaker05_0_2.wav',\n",
    "              '/Users/arnav/Desktop/Assignment/Assignment-5/training/speaker05_0_3.wav',\n",
    "              '/Users/arnav/Desktop/Assignment/Assignment-5/training/speaker05_0_4.wav',\n",
    "              '/Users/arnav/Desktop/Assignment/Assignment-5/training/speaker05_0_5.wav']\n",
    "\n",
    "mfcc_features = []\n",
    "max_length = 0\n",
    "\n",
    "for file_path in audio_files:\n",
    "    signal, sr = librosa.load(file_path)\n",
    "    mfcc = librosa.feature.mfcc(y = signal, sr=sr, n_mfcc=13)\n",
    "    mfcc_features.append(mfcc)\n",
    "    if mfcc.shape[1]>max_length :\n",
    "        max_length = mfcc.shape[1]\n",
    "        \n",
    "# Pad the MFCC coefficients with zeros\n",
    "\n",
    "padded_mfcc_list = []\n",
    "\n",
    "for mfcc in mfcc_features:\n",
    "    if mfcc.shape[1] < max_length:\n",
    "        pad_width = ((0, 0), (0, max_length - mfcc.shape[1]))\n",
    "        padded_mfcc = np.pad(mfcc, pad_width=pad_width, mode='constant', constant_values=0)\n",
    "        padded_mfcc_list.append(padded_mfcc)\n",
    "    else:\n",
    "        padded_mfcc_list.append(mfcc)\n",
    "\n",
    "# Stack the MFCC features for all repetitions of digit '0', speaker 1\n",
    "\n",
    "digit_0_speaker_5 = np.stack(padded_mfcc_list, axis=0)\n",
    "print(digit_0_speaker_5.shape)"
   ]
  },
  {
   "cell_type": "code",
   "execution_count": 7,
   "id": "5c419186",
   "metadata": {},
   "outputs": [
    {
     "name": "stdout",
     "output_type": "stream",
     "text": [
      "(5, 13, 41)\n"
     ]
    }
   ],
   "source": [
    "# Load Audio file From Training Folder\n",
    "\n",
    "# Speaker Id = 6, Digit = 0, All the Utterences\n",
    "\n",
    "audio_files = ['/Users/arnav/Desktop/Assignment/Assignment-5/training/speaker06_0_1.wav',\n",
    "              '/Users/arnav/Desktop/Assignment/Assignment-5/training/speaker06_0_2.wav',\n",
    "              '/Users/arnav/Desktop/Assignment/Assignment-5/training/speaker06_0_3.wav',\n",
    "              '/Users/arnav/Desktop/Assignment/Assignment-5/training/speaker06_0_4.wav',\n",
    "              '/Users/arnav/Desktop/Assignment/Assignment-5/training/speaker06_0_5.wav']\n",
    "\n",
    "mfcc_features = []\n",
    "max_length = 0\n",
    "\n",
    "for file_path in audio_files:\n",
    "    signal, sr = librosa.load(file_path)\n",
    "    mfcc = librosa.feature.mfcc(y = signal, sr=sr, n_mfcc=13)\n",
    "    mfcc_features.append(mfcc)\n",
    "    if mfcc.shape[1]>max_length :\n",
    "        max_length = mfcc.shape[1]\n",
    "        \n",
    "# Pad the MFCC coefficients with zeros\n",
    "\n",
    "padded_mfcc_list = []\n",
    "\n",
    "for mfcc in mfcc_features:\n",
    "    if mfcc.shape[1] < max_length:\n",
    "        pad_width = ((0, 0), (0, max_length - mfcc.shape[1]))\n",
    "        padded_mfcc = np.pad(mfcc, pad_width=pad_width, mode='constant', constant_values=0)\n",
    "        padded_mfcc_list.append(padded_mfcc)\n",
    "    else:\n",
    "        padded_mfcc_list.append(mfcc)\n",
    "\n",
    "# Stack the MFCC features for all repetitions of digit '0', speaker 1\n",
    "\n",
    "digit_0_speaker_6 = np.stack(padded_mfcc_list, axis=0)\n",
    "print(digit_0_speaker_6.shape)"
   ]
  },
  {
   "cell_type": "code",
   "execution_count": 8,
   "id": "00ecbe12",
   "metadata": {},
   "outputs": [
    {
     "name": "stdout",
     "output_type": "stream",
     "text": [
      "(6, 5, 13, 41)\n"
     ]
    }
   ],
   "source": [
    "# Find the maximum size of the third dimension\n",
    "\n",
    "max_size = max(digit_0_speaker_1.shape[2], digit_0_speaker_2.shape[2], digit_0_speaker_3.shape[2], digit_0_speaker_4.shape[2], digit_0_speaker_5.shape[2], digit_0_speaker_6.shape[2])\n",
    "\n",
    "# Pad the arrays with zeros\n",
    "digit_0_speaker_1 = np.pad(digit_0_speaker_1, ((0,0),(0,0),(0,max_size-digit_0_speaker_1.shape[2])), mode='constant')\n",
    "digit_0_speaker_2 = np.pad(digit_0_speaker_2, ((0,0),(0,0),(0,max_size-digit_0_speaker_2.shape[2])), mode='constant')\n",
    "digit_0_speaker_3 = np.pad(digit_0_speaker_3, ((0,0),(0,0),(0,max_size-digit_0_speaker_3.shape[2])), mode='constant')\n",
    "digit_0_speaker_4 = np.pad(digit_0_speaker_4, ((0,0),(0,0),(0,max_size-digit_0_speaker_4.shape[2])), mode='constant')\n",
    "digit_0_speaker_5 = np.pad(digit_0_speaker_5, ((0,0),(0,0),(0,max_size-digit_0_speaker_5.shape[2])), mode='constant')\n",
    "digit_0_speaker_6 = np.pad(digit_0_speaker_6, ((0,0),(0,0),(0,max_size-digit_0_speaker_6.shape[2])), mode='constant')\n",
    "\n",
    "# Concatenate the padded arrays along the third axis\n",
    "digit_0_allspeaker = np.stack((digit_0_speaker_1, digit_0_speaker_2, digit_0_speaker_3, digit_0_speaker_4, digit_0_speaker_5, digit_0_speaker_6), axis=2)\n",
    "\n",
    "\n",
    "# Rearranging the given Matrix into standard format for all the Speakers\n",
    "\n",
    "digit_0_allspeaker = np.transpose(digit_0_allspeaker, (2, 0, 1, 3))\n",
    "\n",
    "# Print the shape of the concatenated array\n",
    "\n",
    "print(digit_0_allspeaker.shape)"
   ]
  },
  {
   "cell_type": "markdown",
   "id": "e22a7d98",
   "metadata": {},
   "source": [
    "# All Utterences for Digit \"1\""
   ]
  },
  {
   "cell_type": "code",
   "execution_count": 9,
   "id": "630f3e0f",
   "metadata": {},
   "outputs": [
    {
     "name": "stdout",
     "output_type": "stream",
     "text": [
      "(5, 13, 32)\n"
     ]
    }
   ],
   "source": [
    " # Load Audio file From Training Folder\n",
    "\n",
    "# Speaker Id =1, Digit = 1, All the Utterences\n",
    "\n",
    "audio_files = ['/Users/arnav/Desktop/Assignment/Assignment-5/training/speaker01_1_1.wav',\n",
    "              '/Users/arnav/Desktop/Assignment/Assignment-5/training/speaker01_1_2.wav',\n",
    "              '/Users/arnav/Desktop/Assignment/Assignment-5/training/speaker01_1_3.wav',\n",
    "              '/Users/arnav/Desktop/Assignment/Assignment-5/training/speaker01_1_4.wav',\n",
    "              '/Users/arnav/Desktop/Assignment/Assignment-5/training/speaker01_1_5.wav']\n",
    "\n",
    "mfcc_features = []\n",
    "max_length = 0\n",
    "\n",
    "for file_path in audio_files:\n",
    "    signal, sr = librosa.load(file_path)\n",
    "    mfcc = librosa.feature.mfcc(y = signal, sr=sr, n_mfcc=13)\n",
    "    mfcc_features.append(mfcc)\n",
    "    if mfcc.shape[1]>max_length :\n",
    "        max_length = mfcc.shape[1]\n",
    "        \n",
    "# Pad the MFCC coefficients with zeros\n",
    "\n",
    "padded_mfcc_list = []\n",
    "\n",
    "for mfcc in mfcc_features:\n",
    "    if mfcc.shape[1] < max_length:\n",
    "        pad_width = ((0, 0), (0, max_length - mfcc.shape[1]))\n",
    "        padded_mfcc = np.pad(mfcc, pad_width=pad_width, mode='constant', constant_values=0)\n",
    "        padded_mfcc_list.append(padded_mfcc)\n",
    "    else:\n",
    "        padded_mfcc_list.append(mfcc)\n",
    "\n",
    "# Stack the MFCC features for all repetitions of digit '1', Speaker 1\n",
    "\n",
    "digit_1_speaker_1 = np.stack(padded_mfcc_list, axis=0)\n",
    "print(digit_1_speaker_1.shape)"
   ]
  },
  {
   "cell_type": "code",
   "execution_count": 10,
   "id": "04d7d282",
   "metadata": {},
   "outputs": [
    {
     "name": "stdout",
     "output_type": "stream",
     "text": [
      "(5, 13, 30)\n"
     ]
    }
   ],
   "source": [
    "# Load Audio file From Training Folder\n",
    "\n",
    "# Speaker Id =2, Digit = 1, All the Utterences\n",
    "\n",
    "audio_files = ['/Users/arnav/Desktop/Assignment/Assignment-5/training/speaker02_1_1.wav',\n",
    "              '/Users/arnav/Desktop/Assignment/Assignment-5/training/speaker02_1_2.wav',\n",
    "              '/Users/arnav/Desktop/Assignment/Assignment-5/training/speaker02_1_3.wav',\n",
    "              '/Users/arnav/Desktop/Assignment/Assignment-5/training/speaker02_1_4.wav',\n",
    "              '/Users/arnav/Desktop/Assignment/Assignment-5/training/speaker02_1_5.wav']\n",
    "\n",
    "mfcc_features = []\n",
    "max_length = 0\n",
    "\n",
    "for file_path in audio_files:\n",
    "    signal, sr = librosa.load(file_path)\n",
    "    mfcc = librosa.feature.mfcc(y = signal, sr=sr, n_mfcc=13)\n",
    "    mfcc_features.append(mfcc)\n",
    "    if mfcc.shape[1]>max_length :\n",
    "        max_length = mfcc.shape[1]\n",
    "        \n",
    "# Pad the MFCC coefficients with zeros\n",
    "\n",
    "padded_mfcc_list = []\n",
    "\n",
    "for mfcc in mfcc_features:\n",
    "    if mfcc.shape[1] < max_length:\n",
    "        pad_width = ((0, 0), (0, max_length - mfcc.shape[1]))\n",
    "        padded_mfcc = np.pad(mfcc, pad_width=pad_width, mode='constant', constant_values=0)\n",
    "        padded_mfcc_list.append(padded_mfcc)\n",
    "    else:\n",
    "        padded_mfcc_list.append(mfcc)\n",
    "\n",
    "# Stack the MFCC features for all repetitions of digit '1', Speaker 2\n",
    "\n",
    "digit_1_speaker_2 = np.stack(padded_mfcc_list, axis=0)\n",
    "print(digit_1_speaker_2.shape)"
   ]
  },
  {
   "cell_type": "code",
   "execution_count": 11,
   "id": "44a33c97",
   "metadata": {},
   "outputs": [
    {
     "name": "stdout",
     "output_type": "stream",
     "text": [
      "(5, 13, 37)\n"
     ]
    }
   ],
   "source": [
    "# Load Audio file From Training Folder\n",
    "\n",
    "# Speaker Id = 3, Digit = 1, All the Utterences\n",
    "\n",
    "audio_files = ['/Users/arnav/Desktop/Assignment/Assignment-5/training/speaker03_0_1.wav',\n",
    "              '/Users/arnav/Desktop/Assignment/Assignment-5/training/speaker03_0_2.wav',\n",
    "              '/Users/arnav/Desktop/Assignment/Assignment-5/training/speaker03_0_3.wav',\n",
    "              '/Users/arnav/Desktop/Assignment/Assignment-5/training/speaker03_0_4.wav',\n",
    "              '/Users/arnav/Desktop/Assignment/Assignment-5/training/speaker03_0_5.wav']\n",
    "\n",
    "mfcc_features = []\n",
    "max_length = 0\n",
    "\n",
    "for file_path in audio_files:\n",
    "    signal, sr = librosa.load(file_path)\n",
    "    mfcc = librosa.feature.mfcc(y = signal, sr=sr, n_mfcc=13)\n",
    "    mfcc_features.append(mfcc)\n",
    "    if mfcc.shape[1]>max_length :\n",
    "        max_length = mfcc.shape[1]\n",
    "        \n",
    "# Pad the MFCC coefficients with zeros\n",
    "\n",
    "padded_mfcc_list = []\n",
    "\n",
    "for mfcc in mfcc_features:\n",
    "    if mfcc.shape[1] < max_length:\n",
    "        pad_width = ((0, 0), (0, max_length - mfcc.shape[1]))\n",
    "        padded_mfcc = np.pad(mfcc, pad_width=pad_width, mode='constant', constant_values=0)\n",
    "        padded_mfcc_list.append(padded_mfcc)\n",
    "    else:\n",
    "        padded_mfcc_list.append(mfcc)\n",
    "\n",
    "# Stack the MFCC features for all repetitions of digit '1', Speaker 3\n",
    "\n",
    "digit_1_speaker_3 = np.stack(padded_mfcc_list, axis=0)\n",
    "print(digit_1_speaker_3.shape)"
   ]
  },
  {
   "cell_type": "code",
   "execution_count": 12,
   "id": "c164f37c",
   "metadata": {},
   "outputs": [
    {
     "name": "stdout",
     "output_type": "stream",
     "text": [
      "(5, 13, 38)\n"
     ]
    }
   ],
   "source": [
    "# Load Audio file From Training Folder\n",
    "\n",
    "# Speaker Id = 4, Digit = 1, All the Utterences\n",
    "\n",
    "audio_files = ['/Users/arnav/Desktop/Assignment/Assignment-5/training/speaker04_0_1.wav',\n",
    "              '/Users/arnav/Desktop/Assignment/Assignment-5/training/speaker04_0_2.wav',\n",
    "              '/Users/arnav/Desktop/Assignment/Assignment-5/training/speaker04_0_3.wav',\n",
    "              '/Users/arnav/Desktop/Assignment/Assignment-5/training/speaker04_0_4.wav',\n",
    "              '/Users/arnav/Desktop/Assignment/Assignment-5/training/speaker04_0_5.wav']\n",
    "\n",
    "mfcc_features = []\n",
    "max_length = 0\n",
    "\n",
    "for file_path in audio_files:\n",
    "    signal, sr = librosa.load(file_path)\n",
    "    mfcc = librosa.feature.mfcc(y = signal, sr=sr, n_mfcc=13)\n",
    "    mfcc_features.append(mfcc)\n",
    "    if mfcc.shape[1]>max_length :\n",
    "        max_length = mfcc.shape[1]\n",
    "        \n",
    "# Pad the MFCC coefficients with zeros\n",
    "\n",
    "padded_mfcc_list = []\n",
    "\n",
    "for mfcc in mfcc_features:\n",
    "    if mfcc.shape[1] < max_length:\n",
    "        pad_width = ((0, 0), (0, max_length - mfcc.shape[1]))\n",
    "        padded_mfcc = np.pad(mfcc, pad_width=pad_width, mode='constant', constant_values=0)\n",
    "        padded_mfcc_list.append(padded_mfcc)\n",
    "    else:\n",
    "        padded_mfcc_list.append(mfcc)\n",
    "\n",
    "# Stack the MFCC features for all repetitions of digit '1', Speaker 4\n",
    "\n",
    "digit_1_speaker_4 = np.stack(padded_mfcc_list, axis=0)\n",
    "print(digit_1_speaker_4.shape)"
   ]
  },
  {
   "cell_type": "code",
   "execution_count": 13,
   "id": "4a3cb05f",
   "metadata": {},
   "outputs": [
    {
     "name": "stdout",
     "output_type": "stream",
     "text": [
      "(5, 13, 32)\n"
     ]
    }
   ],
   "source": [
    "# Load Audio file From Training Folder\n",
    "\n",
    "# Speaker Id = 5, Digit = 1, All the Utterences\n",
    "\n",
    "audio_files = ['/Users/arnav/Desktop/Assignment/Assignment-5/training/speaker05_0_1.wav',\n",
    "              '/Users/arnav/Desktop/Assignment/Assignment-5/training/speaker05_0_2.wav',\n",
    "              '/Users/arnav/Desktop/Assignment/Assignment-5/training/speaker05_0_3.wav',\n",
    "              '/Users/arnav/Desktop/Assignment/Assignment-5/training/speaker05_0_4.wav',\n",
    "              '/Users/arnav/Desktop/Assignment/Assignment-5/training/speaker05_0_5.wav']\n",
    "\n",
    "mfcc_features = []\n",
    "max_length = 0\n",
    "\n",
    "for file_path in audio_files:\n",
    "    signal, sr = librosa.load(file_path)\n",
    "    mfcc = librosa.feature.mfcc(y = signal, sr=sr, n_mfcc=13)\n",
    "    mfcc_features.append(mfcc)\n",
    "    if mfcc.shape[1]>max_length :\n",
    "        max_length = mfcc.shape[1]\n",
    "        \n",
    "# Pad the MFCC coefficients with zeros\n",
    "\n",
    "padded_mfcc_list = []\n",
    "\n",
    "for mfcc in mfcc_features:\n",
    "    if mfcc.shape[1] < max_length:\n",
    "        pad_width = ((0, 0), (0, max_length - mfcc.shape[1]))\n",
    "        padded_mfcc = np.pad(mfcc, pad_width=pad_width, mode='constant', constant_values=0)\n",
    "        padded_mfcc_list.append(padded_mfcc)\n",
    "    else:\n",
    "        padded_mfcc_list.append(mfcc)\n",
    "\n",
    "# Stack the MFCC features for all repetitions of Digit '1', Speaker 5\n",
    "\n",
    "digit_1_speaker_5 = np.stack(padded_mfcc_list, axis=0)\n",
    "print(digit_1_speaker_5.shape)"
   ]
  },
  {
   "cell_type": "code",
   "execution_count": 14,
   "id": "5d6608ef",
   "metadata": {},
   "outputs": [
    {
     "name": "stdout",
     "output_type": "stream",
     "text": [
      "(5, 13, 41)\n"
     ]
    }
   ],
   "source": [
    "# Load Audio file From Training Folder\n",
    "\n",
    "# Speaker Id = 6, Digit = 1, All the Utterences\n",
    "\n",
    "audio_files = ['/Users/arnav/Desktop/Assignment/Assignment-5/training/speaker06_0_1.wav',\n",
    "              '/Users/arnav/Desktop/Assignment/Assignment-5/training/speaker06_0_2.wav',\n",
    "              '/Users/arnav/Desktop/Assignment/Assignment-5/training/speaker06_0_3.wav',\n",
    "              '/Users/arnav/Desktop/Assignment/Assignment-5/training/speaker06_0_4.wav',\n",
    "              '/Users/arnav/Desktop/Assignment/Assignment-5/training/speaker06_0_5.wav']\n",
    "\n",
    "mfcc_features = []\n",
    "max_length = 0\n",
    "\n",
    "for file_path in audio_files:\n",
    "    signal, sr = librosa.load(file_path)\n",
    "    mfcc = librosa.feature.mfcc(y = signal, sr=sr, n_mfcc=13)\n",
    "    mfcc_features.append(mfcc)\n",
    "    if mfcc.shape[1]>max_length :\n",
    "        max_length = mfcc.shape[1]\n",
    "        \n",
    "# Pad the MFCC coefficients with zeros\n",
    "\n",
    "padded_mfcc_list = []\n",
    "\n",
    "for mfcc in mfcc_features:\n",
    "    if mfcc.shape[1] < max_length:\n",
    "        pad_width = ((0, 0), (0, max_length - mfcc.shape[1]))\n",
    "        padded_mfcc = np.pad(mfcc, pad_width=pad_width, mode='constant', constant_values=0)\n",
    "        padded_mfcc_list.append(padded_mfcc)\n",
    "    else:\n",
    "        padded_mfcc_list.append(mfcc)\n",
    "\n",
    "# Stack the MFCC features for all repetitions of digit '1', Speaker 6\n",
    "\n",
    "digit_1_speaker_6 = np.stack(padded_mfcc_list, axis=0)\n",
    "print(digit_1_speaker_6.shape)"
   ]
  },
  {
   "cell_type": "code",
   "execution_count": 15,
   "id": "4b60485b",
   "metadata": {},
   "outputs": [
    {
     "name": "stdout",
     "output_type": "stream",
     "text": [
      "(6, 5, 13, 41)\n"
     ]
    }
   ],
   "source": [
    "# Find the maximum size of the third dimension\n",
    "\n",
    "max_size = max(digit_1_speaker_1.shape[2], digit_1_speaker_2.shape[2], digit_1_speaker_3.shape[2], digit_1_speaker_4.shape[2], digit_1_speaker_5.shape[2], digit_1_speaker_6.shape[2])\n",
    "\n",
    "# Pad the arrays with zeros\n",
    "digit_1_speaker_1 = np.pad(digit_1_speaker_1, ((0,0),(0,0),(0,max_size-digit_1_speaker_1.shape[2])), mode='constant')\n",
    "digit_1_speaker_2 = np.pad(digit_1_speaker_2, ((0,0),(0,0),(0,max_size-digit_1_speaker_2.shape[2])), mode='constant')\n",
    "digit_1_speaker_3 = np.pad(digit_1_speaker_3, ((0,0),(0,0),(0,max_size-digit_1_speaker_3.shape[2])), mode='constant')\n",
    "digit_1_speaker_4 = np.pad(digit_1_speaker_4, ((0,0),(0,0),(0,max_size-digit_1_speaker_4.shape[2])), mode='constant')\n",
    "digit_1_speaker_5 = np.pad(digit_1_speaker_5, ((0,0),(0,0),(0,max_size-digit_1_speaker_5.shape[2])), mode='constant')\n",
    "digit_1_speaker_6 = np.pad(digit_1_speaker_6, ((0,0),(0,0),(0,max_size-digit_1_speaker_6.shape[2])), mode='constant')\n",
    "\n",
    "# Concatenate the padded arrays along the third axis\n",
    "digit_1_allspeaker = np.stack((digit_1_speaker_1, digit_1_speaker_2, digit_1_speaker_3, digit_1_speaker_4, digit_1_speaker_5, digit_1_speaker_6), axis=2)\n",
    "\n",
    "digit_1_allspeaker = np.transpose(digit_1_allspeaker, (2, 0, 1, 3))\n",
    "\n",
    "# Print the shape of the concatenated array\n",
    "print(digit_1_allspeaker.shape)\n"
   ]
  },
  {
   "cell_type": "markdown",
   "id": "6a24ea50",
   "metadata": {},
   "source": [
    "# All Utterences for Digit \"2\""
   ]
  },
  {
   "cell_type": "code",
   "execution_count": 16,
   "id": "af9d5d8f",
   "metadata": {},
   "outputs": [
    {
     "name": "stdout",
     "output_type": "stream",
     "text": [
      "(5, 13, 37)\n"
     ]
    }
   ],
   "source": [
    " # Load Audio file From Training Folder\n",
    "\n",
    "# Speaker Id =1, Digit = 2, All the Utterences\n",
    "\n",
    "audio_files = ['/Users/arnav/Desktop/Assignment/Assignment-5/training/speaker01_2_1.wav',\n",
    "              '/Users/arnav/Desktop/Assignment/Assignment-5/training/speaker01_2_2.wav',\n",
    "              '/Users/arnav/Desktop/Assignment/Assignment-5/training/speaker01_2_3.wav',\n",
    "              '/Users/arnav/Desktop/Assignment/Assignment-5/training/speaker01_2_4.wav',\n",
    "              '/Users/arnav/Desktop/Assignment/Assignment-5/training/speaker01_2_5.wav']\n",
    "\n",
    "mfcc_features = []\n",
    "max_length = 0\n",
    "\n",
    "for file_path in audio_files:\n",
    "    signal, sr = librosa.load(file_path)\n",
    "    mfcc = librosa.feature.mfcc(y = signal, sr=sr, n_mfcc=13)\n",
    "    mfcc_features.append(mfcc)\n",
    "    if mfcc.shape[1]>max_length :\n",
    "        max_length = mfcc.shape[1]\n",
    "        \n",
    "# Pad the MFCC coefficients with zeros\n",
    "\n",
    "padded_mfcc_list = []\n",
    "\n",
    "for mfcc in mfcc_features:\n",
    "    if mfcc.shape[1] < max_length:\n",
    "        pad_width = ((0, 0), (0, max_length - mfcc.shape[1]))\n",
    "        padded_mfcc = np.pad(mfcc, pad_width=pad_width, mode='constant', constant_values=0)\n",
    "        padded_mfcc_list.append(padded_mfcc)\n",
    "    else:\n",
    "        padded_mfcc_list.append(mfcc)\n",
    "\n",
    "# Stack the MFCC features for all repetitions of digit '2', Speaker 1\n",
    "\n",
    "digit_2_speaker_1 = np.stack(padded_mfcc_list, axis=0)\n",
    "print(digit_2_speaker_1.shape)"
   ]
  },
  {
   "cell_type": "code",
   "execution_count": 17,
   "id": "da61395f",
   "metadata": {},
   "outputs": [
    {
     "name": "stdout",
     "output_type": "stream",
     "text": [
      "(5, 13, 33)\n"
     ]
    }
   ],
   "source": [
    " # Load Audio file From Training Folder\n",
    "\n",
    "# Speaker Id = 2, Digit = 2, All the Utterences\n",
    "\n",
    "audio_files = ['/Users/arnav/Desktop/Assignment/Assignment-5/training/speaker02_2_1.wav',\n",
    "              '/Users/arnav/Desktop/Assignment/Assignment-5/training/speaker02_2_2.wav',\n",
    "              '/Users/arnav/Desktop/Assignment/Assignment-5/training/speaker02_2_3.wav',\n",
    "              '/Users/arnav/Desktop/Assignment/Assignment-5/training/speaker02_2_4.wav',\n",
    "              '/Users/arnav/Desktop/Assignment/Assignment-5/training/speaker02_2_5.wav']\n",
    "\n",
    "mfcc_features = []\n",
    "max_length = 0\n",
    "\n",
    "for file_path in audio_files:\n",
    "    signal, sr = librosa.load(file_path)\n",
    "    mfcc = librosa.feature.mfcc(y = signal, sr=sr, n_mfcc=13)\n",
    "    mfcc_features.append(mfcc)\n",
    "    if mfcc.shape[1]>max_length :\n",
    "        max_length = mfcc.shape[1]\n",
    "        \n",
    "# Pad the MFCC coefficients with zeros\n",
    "\n",
    "padded_mfcc_list = []\n",
    "\n",
    "for mfcc in mfcc_features:\n",
    "    if mfcc.shape[1] < max_length:\n",
    "        pad_width = ((0, 0), (0, max_length - mfcc.shape[1]))\n",
    "        padded_mfcc = np.pad(mfcc, pad_width=pad_width, mode='constant', constant_values=0)\n",
    "        padded_mfcc_list.append(padded_mfcc)\n",
    "    else:\n",
    "        padded_mfcc_list.append(mfcc)\n",
    "\n",
    "# Stack the MFCC features for all repetitions of digit '2', Speaker 2\n",
    "\n",
    "digit_2_speaker_2 = np.stack(padded_mfcc_list, axis=0)\n",
    "print(digit_2_speaker_2.shape)"
   ]
  },
  {
   "cell_type": "code",
   "execution_count": 18,
   "id": "90a45bbc",
   "metadata": {},
   "outputs": [
    {
     "name": "stdout",
     "output_type": "stream",
     "text": [
      "(5, 13, 33)\n"
     ]
    }
   ],
   "source": [
    " # Load Audio file From Training Folder\n",
    "\n",
    "# Speaker Id = 3, Digit = 2, All the Utterences\n",
    "\n",
    "audio_files = ['/Users/arnav/Desktop/Assignment/Assignment-5/training/speaker03_2_1.wav',\n",
    "              '/Users/arnav/Desktop/Assignment/Assignment-5/training/speaker03_2_2.wav',\n",
    "              '/Users/arnav/Desktop/Assignment/Assignment-5/training/speaker03_2_3.wav',\n",
    "              '/Users/arnav/Desktop/Assignment/Assignment-5/training/speaker03_2_4.wav',\n",
    "              '/Users/arnav/Desktop/Assignment/Assignment-5/training/speaker03_2_5.wav']\n",
    "\n",
    "mfcc_features = []\n",
    "max_length = 0\n",
    "\n",
    "for file_path in audio_files:\n",
    "    signal, sr = librosa.load(file_path)\n",
    "    mfcc = librosa.feature.mfcc(y = signal, sr=sr, n_mfcc=13)\n",
    "    mfcc_features.append(mfcc)\n",
    "    if mfcc.shape[1]>max_length :\n",
    "        max_length = mfcc.shape[1]\n",
    "        \n",
    "# Pad the MFCC coefficients with zeros\n",
    "\n",
    "padded_mfcc_list = []\n",
    "\n",
    "for mfcc in mfcc_features:\n",
    "    if mfcc.shape[1] < max_length:\n",
    "        pad_width = ((0, 0), (0, max_length - mfcc.shape[1]))\n",
    "        padded_mfcc = np.pad(mfcc, pad_width=pad_width, mode='constant', constant_values=0)\n",
    "        padded_mfcc_list.append(padded_mfcc)\n",
    "    else:\n",
    "        padded_mfcc_list.append(mfcc)\n",
    "\n",
    "# Stack the MFCC features for all repetitions of digit '2', Speaker 3\n",
    "\n",
    "digit_2_speaker_3 = np.stack(padded_mfcc_list, axis=0)\n",
    "print(digit_2_speaker_3.shape)"
   ]
  },
  {
   "cell_type": "code",
   "execution_count": 19,
   "id": "f625cf68",
   "metadata": {},
   "outputs": [
    {
     "name": "stdout",
     "output_type": "stream",
     "text": [
      "(5, 13, 35)\n"
     ]
    }
   ],
   "source": [
    " # Load Audio file From Training Folder\n",
    "\n",
    "# Speaker Id = 4, Digit = 2, All the Utterences\n",
    "\n",
    "audio_files = ['/Users/arnav/Desktop/Assignment/Assignment-5/training/speaker04_2_1.wav',\n",
    "              '/Users/arnav/Desktop/Assignment/Assignment-5/training/speaker04_2_2.wav',\n",
    "              '/Users/arnav/Desktop/Assignment/Assignment-5/training/speaker04_2_3.wav',\n",
    "              '/Users/arnav/Desktop/Assignment/Assignment-5/training/speaker04_2_4.wav',\n",
    "              '/Users/arnav/Desktop/Assignment/Assignment-5/training/speaker04_2_5.wav']\n",
    "\n",
    "mfcc_features = []\n",
    "max_length = 0\n",
    "\n",
    "for file_path in audio_files:\n",
    "    signal, sr = librosa.load(file_path)\n",
    "    mfcc = librosa.feature.mfcc(y = signal, sr=sr, n_mfcc=13)\n",
    "    mfcc_features.append(mfcc)\n",
    "    if mfcc.shape[1]>max_length :\n",
    "        max_length = mfcc.shape[1]\n",
    "        \n",
    "# Pad the MFCC coefficients with zeros\n",
    "\n",
    "padded_mfcc_list = []\n",
    "\n",
    "for mfcc in mfcc_features:\n",
    "    if mfcc.shape[1] < max_length:\n",
    "        pad_width = ((0, 0), (0, max_length - mfcc.shape[1]))\n",
    "        padded_mfcc = np.pad(mfcc, pad_width=pad_width, mode='constant', constant_values=0)\n",
    "        padded_mfcc_list.append(padded_mfcc)\n",
    "    else:\n",
    "        padded_mfcc_list.append(mfcc)\n",
    "\n",
    "# Stack the MFCC features for all repetitions of digit '2', Speaker 4\n",
    "\n",
    "digit_2_speaker_4 = np.stack(padded_mfcc_list, axis=0)\n",
    "print(digit_2_speaker_4.shape)"
   ]
  },
  {
   "cell_type": "code",
   "execution_count": 20,
   "id": "eb9a3c04",
   "metadata": {},
   "outputs": [
    {
     "name": "stdout",
     "output_type": "stream",
     "text": [
      "(5, 13, 29)\n"
     ]
    }
   ],
   "source": [
    " # Load Audio file From Training Folder\n",
    "\n",
    "# Speaker Id = 5, Digit = 2, All the Utterences\n",
    "\n",
    "audio_files = ['/Users/arnav/Desktop/Assignment/Assignment-5/training/speaker05_2_1.wav',\n",
    "              '/Users/arnav/Desktop/Assignment/Assignment-5/training/speaker05_2_2.wav',\n",
    "              '/Users/arnav/Desktop/Assignment/Assignment-5/training/speaker05_2_3.wav',\n",
    "              '/Users/arnav/Desktop/Assignment/Assignment-5/training/speaker05_2_4.wav',\n",
    "              '/Users/arnav/Desktop/Assignment/Assignment-5/training/speaker05_2_5.wav']\n",
    "\n",
    "mfcc_features = []\n",
    "max_length = 0\n",
    "\n",
    "for file_path in audio_files:\n",
    "    signal, sr = librosa.load(file_path)\n",
    "    mfcc = librosa.feature.mfcc(y = signal, sr=sr, n_mfcc=13)\n",
    "    mfcc_features.append(mfcc)\n",
    "    if mfcc.shape[1]>max_length :\n",
    "        max_length = mfcc.shape[1]\n",
    "        \n",
    "# Pad the MFCC coefficients with zeros\n",
    "\n",
    "padded_mfcc_list = []\n",
    "\n",
    "for mfcc in mfcc_features:\n",
    "    if mfcc.shape[1] < max_length:\n",
    "        pad_width = ((0, 0), (0, max_length - mfcc.shape[1]))\n",
    "        padded_mfcc = np.pad(mfcc, pad_width=pad_width, mode='constant', constant_values=0)\n",
    "        padded_mfcc_list.append(padded_mfcc)\n",
    "    else:\n",
    "        padded_mfcc_list.append(mfcc)\n",
    "\n",
    "# Stack the MFCC features for all repetitions of digit '2', Speaker 5\n",
    "\n",
    "digit_2_speaker_5 = np.stack(padded_mfcc_list, axis=0)\n",
    "print(digit_2_speaker_5.shape)"
   ]
  },
  {
   "cell_type": "code",
   "execution_count": 21,
   "id": "9363ec71",
   "metadata": {},
   "outputs": [
    {
     "name": "stdout",
     "output_type": "stream",
     "text": [
      "(5, 13, 34)\n"
     ]
    }
   ],
   "source": [
    " # Load Audio file From Training Folder\n",
    "\n",
    "# Speaker Id = 6, Digit = 2, All the Utterences\n",
    "\n",
    "audio_files = ['/Users/arnav/Desktop/Assignment/Assignment-5/training/speaker06_2_1.wav',\n",
    "              '/Users/arnav/Desktop/Assignment/Assignment-5/training/speaker06_2_2.wav',\n",
    "              '/Users/arnav/Desktop/Assignment/Assignment-5/training/speaker06_2_3.wav',\n",
    "              '/Users/arnav/Desktop/Assignment/Assignment-5/training/speaker06_2_4.wav',\n",
    "              '/Users/arnav/Desktop/Assignment/Assignment-5/training/speaker06_2_5.wav']\n",
    "\n",
    "mfcc_features = []\n",
    "max_length = 0\n",
    "\n",
    "for file_path in audio_files:\n",
    "    signal, sr = librosa.load(file_path)\n",
    "    mfcc = librosa.feature.mfcc(y = signal, sr=sr, n_mfcc=13)\n",
    "    mfcc_features.append(mfcc)\n",
    "    if mfcc.shape[1]>max_length :\n",
    "        max_length = mfcc.shape[1]\n",
    "        \n",
    "# Pad the MFCC coefficients with zeros\n",
    "\n",
    "padded_mfcc_list = []\n",
    "\n",
    "for mfcc in mfcc_features:\n",
    "    if mfcc.shape[1] < max_length:\n",
    "        pad_width = ((0, 0), (0, max_length - mfcc.shape[1]))\n",
    "        padded_mfcc = np.pad(mfcc, pad_width=pad_width, mode='constant', constant_values=0)\n",
    "        padded_mfcc_list.append(padded_mfcc)\n",
    "    else:\n",
    "        padded_mfcc_list.append(mfcc)\n",
    "\n",
    "# Stack the MFCC features for all repetitions of digit '2', Speaker 2\n",
    "\n",
    "digit_2_speaker_6 = np.stack(padded_mfcc_list, axis=0)\n",
    "print(digit_2_speaker_6.shape)"
   ]
  },
  {
   "cell_type": "code",
   "execution_count": 22,
   "id": "1b41dee1",
   "metadata": {},
   "outputs": [
    {
     "name": "stdout",
     "output_type": "stream",
     "text": [
      "(6, 5, 13, 37)\n"
     ]
    }
   ],
   "source": [
    "# Find the maximum size of the third dimension\n",
    "\n",
    "max_size = max(digit_2_speaker_1.shape[2], digit_2_speaker_2.shape[2], digit_2_speaker_3.shape[2], digit_2_speaker_4.shape[2], digit_2_speaker_5.shape[2], digit_2_speaker_6.shape[2])\n",
    "\n",
    "# Pad the arrays with zeros\n",
    "digit_2_speaker_1 = np.pad(digit_2_speaker_1, ((0,0),(0,0),(0,max_size-digit_2_speaker_1.shape[2])), mode='constant')\n",
    "digit_2_speaker_2 = np.pad(digit_2_speaker_2, ((0,0),(0,0),(0,max_size-digit_2_speaker_2.shape[2])), mode='constant')\n",
    "digit_2_speaker_3 = np.pad(digit_2_speaker_3, ((0,0),(0,0),(0,max_size-digit_2_speaker_3.shape[2])), mode='constant')\n",
    "digit_2_speaker_4 = np.pad(digit_2_speaker_4, ((0,0),(0,0),(0,max_size-digit_2_speaker_4.shape[2])), mode='constant')\n",
    "digit_2_speaker_5 = np.pad(digit_2_speaker_5, ((0,0),(0,0),(0,max_size-digit_2_speaker_5.shape[2])), mode='constant')\n",
    "digit_2_speaker_6 = np.pad(digit_2_speaker_6, ((0,0),(0,0),(0,max_size-digit_2_speaker_6.shape[2])), mode='constant')\n",
    "\n",
    "# Concatenate the padded arrays along the third axis\n",
    "digit_2_allspeaker = np.stack((digit_2_speaker_1, digit_2_speaker_2, digit_2_speaker_3, digit_2_speaker_4, digit_2_speaker_5, digit_2_speaker_6), axis=2)\n",
    "\n",
    "digit_2_allspeaker = np.transpose(digit_2_allspeaker, (2, 0, 1, 3))\n",
    "\n",
    "# Print the shape of the concatenated array\n",
    "print(digit_2_allspeaker.shape)\n"
   ]
  },
  {
   "cell_type": "markdown",
   "id": "fd69c190",
   "metadata": {},
   "source": [
    "# All Utterences for Digit \"3\""
   ]
  },
  {
   "cell_type": "code",
   "execution_count": 23,
   "id": "6eae2664",
   "metadata": {},
   "outputs": [
    {
     "name": "stdout",
     "output_type": "stream",
     "text": [
      "(5, 13, 35)\n"
     ]
    }
   ],
   "source": [
    " # Load Audio file From Training Folder\n",
    "\n",
    "# Speaker Id = 1, Digit = 3, All the Utterences\n",
    "\n",
    "audio_files = ['/Users/arnav/Desktop/Assignment/Assignment-5/training/speaker01_3_1.wav',\n",
    "              '/Users/arnav/Desktop/Assignment/Assignment-5/training/speaker01_3_2.wav',\n",
    "              '/Users/arnav/Desktop/Assignment/Assignment-5/training/speaker01_3_3.wav',\n",
    "              '/Users/arnav/Desktop/Assignment/Assignment-5/training/speaker01_3_4.wav',\n",
    "              '/Users/arnav/Desktop/Assignment/Assignment-5/training/speaker01_3_5.wav']\n",
    "\n",
    "mfcc_features = []\n",
    "max_length = 0\n",
    "\n",
    "for file_path in audio_files:\n",
    "    signal, sr = librosa.load(file_path)\n",
    "    mfcc = librosa.feature.mfcc(y = signal, sr=sr, n_mfcc=13)\n",
    "    mfcc_features.append(mfcc)\n",
    "    if mfcc.shape[1]>max_length :\n",
    "        max_length = mfcc.shape[1]\n",
    "        \n",
    "# Pad the MFCC coefficients with zeros\n",
    "\n",
    "padded_mfcc_list = []\n",
    "\n",
    "for mfcc in mfcc_features:\n",
    "    if mfcc.shape[1] < max_length:\n",
    "        pad_width = ((0, 0), (0, max_length - mfcc.shape[1]))\n",
    "        padded_mfcc = np.pad(mfcc, pad_width=pad_width, mode='constant', constant_values=0)\n",
    "        padded_mfcc_list.append(padded_mfcc)\n",
    "    else:\n",
    "        padded_mfcc_list.append(mfcc)\n",
    "\n",
    "# Stack the MFCC features for all repetitions of digit '3', Speaker 1\n",
    "\n",
    "digit_3_speaker_1 = np.stack(padded_mfcc_list, axis=0)\n",
    "print(digit_3_speaker_1.shape)"
   ]
  },
  {
   "cell_type": "code",
   "execution_count": 24,
   "id": "e5c0f2d5",
   "metadata": {},
   "outputs": [
    {
     "name": "stdout",
     "output_type": "stream",
     "text": [
      "(5, 13, 33)\n"
     ]
    }
   ],
   "source": [
    " # Load Audio file From Training Folder\n",
    "\n",
    "# Speaker Id = 2, Digit = 3, All the Utterences\n",
    "\n",
    "audio_files = ['/Users/arnav/Desktop/Assignment/Assignment-5/training/speaker02_3_1.wav',\n",
    "              '/Users/arnav/Desktop/Assignment/Assignment-5/training/speaker02_3_2.wav',\n",
    "              '/Users/arnav/Desktop/Assignment/Assignment-5/training/speaker02_3_3.wav',\n",
    "              '/Users/arnav/Desktop/Assignment/Assignment-5/training/speaker02_3_4.wav',\n",
    "              '/Users/arnav/Desktop/Assignment/Assignment-5/training/speaker02_3_5.wav']\n",
    "\n",
    "mfcc_features = []\n",
    "max_length = 0\n",
    "\n",
    "for file_path in audio_files:\n",
    "    signal, sr = librosa.load(file_path)\n",
    "    mfcc = librosa.feature.mfcc(y = signal, sr=sr, n_mfcc=13)\n",
    "    mfcc_features.append(mfcc)\n",
    "    if mfcc.shape[1]>max_length :\n",
    "        max_length = mfcc.shape[1]\n",
    "        \n",
    "# Pad the MFCC coefficients with zeros\n",
    "\n",
    "padded_mfcc_list = []\n",
    "\n",
    "for mfcc in mfcc_features:\n",
    "    if mfcc.shape[1] < max_length:\n",
    "        pad_width = ((0, 0), (0, max_length - mfcc.shape[1]))\n",
    "        padded_mfcc = np.pad(mfcc, pad_width=pad_width, mode='constant', constant_values=0)\n",
    "        padded_mfcc_list.append(padded_mfcc)\n",
    "    else:\n",
    "        padded_mfcc_list.append(mfcc)\n",
    "\n",
    "# Stack the MFCC features for all repetitions of digit '3', Speaker 2\n",
    "\n",
    "digit_3_speaker_2 = np.stack(padded_mfcc_list, axis=0)\n",
    "print(digit_3_speaker_2.shape)"
   ]
  },
  {
   "cell_type": "code",
   "execution_count": 25,
   "id": "df27da79",
   "metadata": {},
   "outputs": [
    {
     "name": "stdout",
     "output_type": "stream",
     "text": [
      "(5, 13, 31)\n"
     ]
    }
   ],
   "source": [
    " # Load Audio file From Training Folder\n",
    "\n",
    "# Speaker Id = 3, Digit = 3, All the Utterences\n",
    "\n",
    "audio_files = ['/Users/arnav/Desktop/Assignment/Assignment-5/training/speaker03_3_1.wav',\n",
    "              '/Users/arnav/Desktop/Assignment/Assignment-5/training/speaker03_3_2.wav',\n",
    "              '/Users/arnav/Desktop/Assignment/Assignment-5/training/speaker03_3_3.wav',\n",
    "              '/Users/arnav/Desktop/Assignment/Assignment-5/training/speaker03_3_4.wav',\n",
    "              '/Users/arnav/Desktop/Assignment/Assignment-5/training/speaker03_3_5.wav']\n",
    "\n",
    "mfcc_features = []\n",
    "max_length = 0\n",
    "\n",
    "for file_path in audio_files:\n",
    "    signal, sr = librosa.load(file_path)\n",
    "    mfcc = librosa.feature.mfcc(y = signal, sr=sr, n_mfcc=13)\n",
    "    mfcc_features.append(mfcc)\n",
    "    if mfcc.shape[1]>max_length :\n",
    "        max_length = mfcc.shape[1]\n",
    "        \n",
    "# Pad the MFCC coefficients with zeros\n",
    "\n",
    "padded_mfcc_list = []\n",
    "\n",
    "for mfcc in mfcc_features:\n",
    "    if mfcc.shape[1] < max_length:\n",
    "        pad_width = ((0, 0), (0, max_length - mfcc.shape[1]))\n",
    "        padded_mfcc = np.pad(mfcc, pad_width=pad_width, mode='constant', constant_values=0)\n",
    "        padded_mfcc_list.append(padded_mfcc)\n",
    "    else:\n",
    "        padded_mfcc_list.append(mfcc)\n",
    "\n",
    "# Stack the MFCC features for all repetitions of digit '3', Speaker 3\n",
    "\n",
    "digit_3_speaker_3 = np.stack(padded_mfcc_list, axis=0)\n",
    "print(digit_3_speaker_3.shape)"
   ]
  },
  {
   "cell_type": "code",
   "execution_count": 26,
   "id": "f8f7e875",
   "metadata": {},
   "outputs": [
    {
     "name": "stdout",
     "output_type": "stream",
     "text": [
      "(5, 13, 33)\n"
     ]
    }
   ],
   "source": [
    " # Load Audio file From Training Folder\n",
    "\n",
    "# Speaker Id = 4, Digit = 3, All the Utterences\n",
    "\n",
    "audio_files = ['/Users/arnav/Desktop/Assignment/Assignment-5/training/speaker04_3_1.wav',\n",
    "              '/Users/arnav/Desktop/Assignment/Assignment-5/training/speaker04_3_2.wav',\n",
    "              '/Users/arnav/Desktop/Assignment/Assignment-5/training/speaker04_3_3.wav',\n",
    "              '/Users/arnav/Desktop/Assignment/Assignment-5/training/speaker04_3_4.wav',\n",
    "              '/Users/arnav/Desktop/Assignment/Assignment-5/training/speaker04_3_5.wav']\n",
    "\n",
    "mfcc_features = []\n",
    "max_length = 0\n",
    "\n",
    "for file_path in audio_files:\n",
    "    signal, sr = librosa.load(file_path)\n",
    "    mfcc = librosa.feature.mfcc(y = signal, sr=sr, n_mfcc=13)\n",
    "    mfcc_features.append(mfcc)\n",
    "    if mfcc.shape[1]>max_length :\n",
    "        max_length = mfcc.shape[1]\n",
    "        \n",
    "# Pad the MFCC coefficients with zeros\n",
    "\n",
    "padded_mfcc_list = []\n",
    "\n",
    "for mfcc in mfcc_features:\n",
    "    if mfcc.shape[1] < max_length:\n",
    "        pad_width = ((0, 0), (0, max_length - mfcc.shape[1]))\n",
    "        padded_mfcc = np.pad(mfcc, pad_width=pad_width, mode='constant', constant_values=0)\n",
    "        padded_mfcc_list.append(padded_mfcc)\n",
    "    else:\n",
    "        padded_mfcc_list.append(mfcc)\n",
    "\n",
    "# Stack the MFCC features for all repetitions of digit '3', Speaker 4\n",
    "\n",
    "digit_3_speaker_4 = np.stack(padded_mfcc_list, axis=0)\n",
    "print(digit_3_speaker_4.shape)"
   ]
  },
  {
   "cell_type": "code",
   "execution_count": 27,
   "id": "018cdb08",
   "metadata": {},
   "outputs": [
    {
     "name": "stdout",
     "output_type": "stream",
     "text": [
      "(5, 13, 30)\n"
     ]
    }
   ],
   "source": [
    " # Load Audio file From Training Folder\n",
    "\n",
    "# Speaker Id = 5, Digit = 3, All the Utterences\n",
    "\n",
    "audio_files = ['/Users/arnav/Desktop/Assignment/Assignment-5/training/speaker05_3_1.wav',\n",
    "              '/Users/arnav/Desktop/Assignment/Assignment-5/training/speaker05_3_2.wav',\n",
    "              '/Users/arnav/Desktop/Assignment/Assignment-5/training/speaker05_3_3.wav',\n",
    "              '/Users/arnav/Desktop/Assignment/Assignment-5/training/speaker05_3_4.wav',\n",
    "              '/Users/arnav/Desktop/Assignment/Assignment-5/training/speaker05_3_5.wav']\n",
    "\n",
    "mfcc_features = []\n",
    "max_length = 0\n",
    "\n",
    "for file_path in audio_files:\n",
    "    signal, sr = librosa.load(file_path)\n",
    "    mfcc = librosa.feature.mfcc(y = signal, sr=sr, n_mfcc=13)\n",
    "    mfcc_features.append(mfcc)\n",
    "    if mfcc.shape[1]>max_length :\n",
    "        max_length = mfcc.shape[1]\n",
    "        \n",
    "# Pad the MFCC coefficients with zeros\n",
    "\n",
    "padded_mfcc_list = []\n",
    "\n",
    "for mfcc in mfcc_features:\n",
    "    if mfcc.shape[1] < max_length:\n",
    "        pad_width = ((0, 0), (0, max_length - mfcc.shape[1]))\n",
    "        padded_mfcc = np.pad(mfcc, pad_width=pad_width, mode='constant', constant_values=0)\n",
    "        padded_mfcc_list.append(padded_mfcc)\n",
    "    else:\n",
    "        padded_mfcc_list.append(mfcc)\n",
    "\n",
    "# Stack the MFCC features for all repetitions of digit '3', Speaker 5\n",
    "\n",
    "digit_3_speaker_5 = np.stack(padded_mfcc_list, axis=0)\n",
    "print(digit_3_speaker_5.shape)"
   ]
  },
  {
   "cell_type": "code",
   "execution_count": 28,
   "id": "d4883f36",
   "metadata": {},
   "outputs": [
    {
     "name": "stdout",
     "output_type": "stream",
     "text": [
      "(5, 13, 29)\n"
     ]
    }
   ],
   "source": [
    " # Load Audio file From Training Folder\n",
    "\n",
    "# Speaker Id = 6, Digit = 3, All the Utterences\n",
    "\n",
    "audio_files = ['/Users/arnav/Desktop/Assignment/Assignment-5/training/speaker06_3_1.wav',\n",
    "              '/Users/arnav/Desktop/Assignment/Assignment-5/training/speaker06_3_2.wav',\n",
    "              '/Users/arnav/Desktop/Assignment/Assignment-5/training/speaker06_3_3.wav',\n",
    "              '/Users/arnav/Desktop/Assignment/Assignment-5/training/speaker06_3_4.wav',\n",
    "              '/Users/arnav/Desktop/Assignment/Assignment-5/training/speaker06_3_5.wav']\n",
    "\n",
    "mfcc_features = []\n",
    "max_length = 0\n",
    "\n",
    "for file_path in audio_files:\n",
    "    signal, sr = librosa.load(file_path)\n",
    "    mfcc = librosa.feature.mfcc(y = signal, sr=sr, n_mfcc=13)\n",
    "    mfcc_features.append(mfcc)\n",
    "    if mfcc.shape[1]>max_length :\n",
    "        max_length = mfcc.shape[1]\n",
    "        \n",
    "# Pad the MFCC coefficients with zeros\n",
    "\n",
    "padded_mfcc_list = []\n",
    "\n",
    "for mfcc in mfcc_features:\n",
    "    if mfcc.shape[1] < max_length:\n",
    "        pad_width = ((0, 0), (0, max_length - mfcc.shape[1]))\n",
    "        padded_mfcc = np.pad(mfcc, pad_width=pad_width, mode='constant', constant_values=0)\n",
    "        padded_mfcc_list.append(padded_mfcc)\n",
    "    else:\n",
    "        padded_mfcc_list.append(mfcc)\n",
    "\n",
    "# Stack the MFCC features for all repetitions of digit '3', Speaker 1\n",
    "\n",
    "digit_3_speaker_6 = np.stack(padded_mfcc_list, axis=0)\n",
    "print(digit_3_speaker_6.shape)"
   ]
  },
  {
   "cell_type": "code",
   "execution_count": 29,
   "id": "e9c573d4",
   "metadata": {},
   "outputs": [
    {
     "name": "stdout",
     "output_type": "stream",
     "text": [
      "(6, 5, 13, 35)\n"
     ]
    }
   ],
   "source": [
    "# Find the maximum size of the third dimension\n",
    "\n",
    "max_size = max(digit_3_speaker_1.shape[2], digit_3_speaker_2.shape[2], digit_3_speaker_3.shape[2], digit_3_speaker_4.shape[2], digit_3_speaker_5.shape[2], digit_3_speaker_6.shape[2])\n",
    "\n",
    "# Pad the arrays with zeros\n",
    "digit_3_speaker_1 = np.pad(digit_3_speaker_1, ((0,0),(0,0),(0,max_size-digit_3_speaker_1.shape[2])), mode='constant')\n",
    "digit_3_speaker_2 = np.pad(digit_3_speaker_2, ((0,0),(0,0),(0,max_size-digit_3_speaker_2.shape[2])), mode='constant')\n",
    "digit_3_speaker_3 = np.pad(digit_3_speaker_3, ((0,0),(0,0),(0,max_size-digit_3_speaker_3.shape[2])), mode='constant')\n",
    "digit_3_speaker_4 = np.pad(digit_3_speaker_4, ((0,0),(0,0),(0,max_size-digit_3_speaker_4.shape[2])), mode='constant')\n",
    "digit_3_speaker_5 = np.pad(digit_3_speaker_5, ((0,0),(0,0),(0,max_size-digit_3_speaker_5.shape[2])), mode='constant')\n",
    "digit_3_speaker_6 = np.pad(digit_3_speaker_6, ((0,0),(0,0),(0,max_size-digit_3_speaker_6.shape[2])), mode='constant')\n",
    "\n",
    "# Concatenate the padded arrays along the third axis\n",
    "digit_3_allspeaker = np.stack((digit_3_speaker_1, digit_3_speaker_2, digit_3_speaker_3, digit_3_speaker_4, digit_3_speaker_5, digit_3_speaker_6), axis=2)\n",
    "\n",
    "\n",
    "digit_3_allspeaker = np.transpose(digit_3_allspeaker, (2, 0, 1, 3))\n",
    "\n",
    "# Print the shape of the concatenated array\n",
    "print(digit_3_allspeaker.shape)\n"
   ]
  },
  {
   "cell_type": "markdown",
   "id": "d884d8fd",
   "metadata": {},
   "source": [
    "# All Utterences for Digit \"4\""
   ]
  },
  {
   "cell_type": "code",
   "execution_count": 30,
   "id": "319f3c1e",
   "metadata": {},
   "outputs": [
    {
     "name": "stdout",
     "output_type": "stream",
     "text": [
      "(5, 13, 36)\n"
     ]
    }
   ],
   "source": [
    " # Load Audio file From Training Folder\n",
    "\n",
    "# Speaker Id = 1, Digit = 4, All the Utterences\n",
    "\n",
    "audio_files = ['/Users/arnav/Desktop/Assignment/Assignment-5/training/speaker01_4_1.wav',\n",
    "              '/Users/arnav/Desktop/Assignment/Assignment-5/training/speaker01_4_2.wav',\n",
    "              '/Users/arnav/Desktop/Assignment/Assignment-5/training/speaker01_4_3.wav',\n",
    "              '/Users/arnav/Desktop/Assignment/Assignment-5/training/speaker01_4_4.wav',\n",
    "              '/Users/arnav/Desktop/Assignment/Assignment-5/training/speaker01_4_5.wav']\n",
    "\n",
    "mfcc_features = []\n",
    "max_length = 0\n",
    "\n",
    "for file_path in audio_files:\n",
    "    signal, sr = librosa.load(file_path)\n",
    "    mfcc = librosa.feature.mfcc(y = signal, sr=sr, n_mfcc=13)\n",
    "    mfcc_features.append(mfcc)\n",
    "    if mfcc.shape[1]>max_length :\n",
    "        max_length = mfcc.shape[1]\n",
    "        \n",
    "# Pad the MFCC coefficients with zeros\n",
    "\n",
    "padded_mfcc_list = []\n",
    "\n",
    "for mfcc in mfcc_features:\n",
    "    if mfcc.shape[1] < max_length:\n",
    "        pad_width = ((0, 0), (0, max_length - mfcc.shape[1]))\n",
    "        padded_mfcc = np.pad(mfcc, pad_width=pad_width, mode='constant', constant_values=0)\n",
    "        padded_mfcc_list.append(padded_mfcc)\n",
    "    else:\n",
    "        padded_mfcc_list.append(mfcc)\n",
    "\n",
    "# Stack the MFCC features for all repetitions of digit '4', Speaker 1\n",
    "\n",
    "digit_4_speaker_1 = np.stack(padded_mfcc_list, axis=0)\n",
    "print(digit_4_speaker_1.shape)"
   ]
  },
  {
   "cell_type": "code",
   "execution_count": 31,
   "id": "fc4a5147",
   "metadata": {},
   "outputs": [
    {
     "name": "stdout",
     "output_type": "stream",
     "text": [
      "(5, 13, 33)\n"
     ]
    }
   ],
   "source": [
    " # Load Audio file From Training Folder\n",
    "\n",
    "# Speaker Id = 2, Digit = 4, All the Utterences\n",
    "\n",
    "audio_files = ['/Users/arnav/Desktop/Assignment/Assignment-5/training/speaker02_4_1.wav',\n",
    "              '/Users/arnav/Desktop/Assignment/Assignment-5/training/speaker02_4_2.wav',\n",
    "              '/Users/arnav/Desktop/Assignment/Assignment-5/training/speaker02_4_3.wav',\n",
    "              '/Users/arnav/Desktop/Assignment/Assignment-5/training/speaker02_4_4.wav',\n",
    "              '/Users/arnav/Desktop/Assignment/Assignment-5/training/speaker02_4_5.wav']\n",
    "\n",
    "mfcc_features = []\n",
    "max_length = 0\n",
    "\n",
    "for file_path in audio_files:\n",
    "    signal, sr = librosa.load(file_path)\n",
    "    mfcc = librosa.feature.mfcc(y = signal, sr=sr, n_mfcc=13)\n",
    "    mfcc_features.append(mfcc)\n",
    "    if mfcc.shape[1]>max_length :\n",
    "        max_length = mfcc.shape[1]\n",
    "        \n",
    "# Pad the MFCC coefficients with zeros\n",
    "\n",
    "padded_mfcc_list = []\n",
    "\n",
    "for mfcc in mfcc_features:\n",
    "    if mfcc.shape[1] < max_length:\n",
    "        pad_width = ((0, 0), (0, max_length - mfcc.shape[1]))\n",
    "        padded_mfcc = np.pad(mfcc, pad_width=pad_width, mode='constant', constant_values=0)\n",
    "        padded_mfcc_list.append(padded_mfcc)\n",
    "    else:\n",
    "        padded_mfcc_list.append(mfcc)\n",
    "\n",
    "# Stack the MFCC features for all repetitions of digit '4', Speaker 2\n",
    "\n",
    "digit_4_speaker_2 = np.stack(padded_mfcc_list, axis=0)\n",
    "print(digit_4_speaker_2.shape)"
   ]
  },
  {
   "cell_type": "code",
   "execution_count": 32,
   "id": "bb530ca8",
   "metadata": {},
   "outputs": [
    {
     "name": "stdout",
     "output_type": "stream",
     "text": [
      "(5, 13, 34)\n"
     ]
    }
   ],
   "source": [
    " # Load Audio file From Training Folder\n",
    "\n",
    "# Speaker Id = 3, Digit = 4, All the Utterences\n",
    "\n",
    "audio_files = ['/Users/arnav/Desktop/Assignment/Assignment-5/training/speaker03_4_1.wav',\n",
    "              '/Users/arnav/Desktop/Assignment/Assignment-5/training/speaker03_4_2.wav',\n",
    "              '/Users/arnav/Desktop/Assignment/Assignment-5/training/speaker03_4_3.wav',\n",
    "              '/Users/arnav/Desktop/Assignment/Assignment-5/training/speaker03_4_4.wav',\n",
    "              '/Users/arnav/Desktop/Assignment/Assignment-5/training/speaker03_4_5.wav']\n",
    "\n",
    "mfcc_features = []\n",
    "max_length = 0\n",
    "\n",
    "for file_path in audio_files:\n",
    "    signal, sr = librosa.load(file_path)\n",
    "    mfcc = librosa.feature.mfcc(y = signal, sr=sr, n_mfcc=13)\n",
    "    mfcc_features.append(mfcc)\n",
    "    if mfcc.shape[1]>max_length :\n",
    "        max_length = mfcc.shape[1]\n",
    "        \n",
    "# Pad the MFCC coefficients with zeros\n",
    "\n",
    "padded_mfcc_list = []\n",
    "\n",
    "for mfcc in mfcc_features:\n",
    "    if mfcc.shape[1] < max_length:\n",
    "        pad_width = ((0, 0), (0, max_length - mfcc.shape[1]))\n",
    "        padded_mfcc = np.pad(mfcc, pad_width=pad_width, mode='constant', constant_values=0)\n",
    "        padded_mfcc_list.append(padded_mfcc)\n",
    "    else:\n",
    "        padded_mfcc_list.append(mfcc)\n",
    "\n",
    "# Stack the MFCC features for all repetitions of digit '4', Speaker 3\n",
    "\n",
    "digit_4_speaker_3 = np.stack(padded_mfcc_list, axis=0)\n",
    "print(digit_4_speaker_3.shape)"
   ]
  },
  {
   "cell_type": "code",
   "execution_count": 33,
   "id": "8c6ffbdb",
   "metadata": {},
   "outputs": [
    {
     "name": "stdout",
     "output_type": "stream",
     "text": [
      "(5, 13, 35)\n"
     ]
    }
   ],
   "source": [
    " # Load Audio file From Training Folder\n",
    "\n",
    "# Speaker Id = 4, Digit = 4, All the Utterences\n",
    "\n",
    "audio_files = ['/Users/arnav/Desktop/Assignment/Assignment-5/training/speaker04_4_1.wav',\n",
    "              '/Users/arnav/Desktop/Assignment/Assignment-5/training/speaker04_4_2.wav',\n",
    "              '/Users/arnav/Desktop/Assignment/Assignment-5/training/speaker04_4_3.wav',\n",
    "              '/Users/arnav/Desktop/Assignment/Assignment-5/training/speaker04_4_4.wav',\n",
    "              '/Users/arnav/Desktop/Assignment/Assignment-5/training/speaker04_4_5.wav']\n",
    "\n",
    "mfcc_features = []\n",
    "max_length = 0\n",
    "\n",
    "for file_path in audio_files:\n",
    "    signal, sr = librosa.load(file_path)\n",
    "    mfcc = librosa.feature.mfcc(y = signal, sr=sr, n_mfcc=13)\n",
    "    mfcc_features.append(mfcc)\n",
    "    if mfcc.shape[1]>max_length :\n",
    "        max_length = mfcc.shape[1]\n",
    "        \n",
    "# Pad the MFCC coefficients with zeros\n",
    "\n",
    "padded_mfcc_list = []\n",
    "\n",
    "for mfcc in mfcc_features:\n",
    "    if mfcc.shape[1] < max_length:\n",
    "        pad_width = ((0, 0), (0, max_length - mfcc.shape[1]))\n",
    "        padded_mfcc = np.pad(mfcc, pad_width=pad_width, mode='constant', constant_values=0)\n",
    "        padded_mfcc_list.append(padded_mfcc)\n",
    "    else:\n",
    "        padded_mfcc_list.append(mfcc)\n",
    "\n",
    "# Stack the MFCC features for all repetitions of digit '4', Speaker 4\n",
    "\n",
    "digit_4_speaker_4 = np.stack(padded_mfcc_list, axis=0)\n",
    "print(digit_4_speaker_4.shape)"
   ]
  },
  {
   "cell_type": "code",
   "execution_count": 34,
   "id": "d19e111b",
   "metadata": {},
   "outputs": [
    {
     "name": "stdout",
     "output_type": "stream",
     "text": [
      "(5, 13, 30)\n"
     ]
    }
   ],
   "source": [
    " # Load Audio file From Training Folder\n",
    "\n",
    "# Speaker Id = 5, Digit = 4, All the Utterences\n",
    "\n",
    "audio_files = ['/Users/arnav/Desktop/Assignment/Assignment-5/training/speaker05_4_1.wav',\n",
    "              '/Users/arnav/Desktop/Assignment/Assignment-5/training/speaker05_4_2.wav',\n",
    "              '/Users/arnav/Desktop/Assignment/Assignment-5/training/speaker05_4_3.wav',\n",
    "              '/Users/arnav/Desktop/Assignment/Assignment-5/training/speaker05_4_4.wav',\n",
    "              '/Users/arnav/Desktop/Assignment/Assignment-5/training/speaker05_4_5.wav']\n",
    "\n",
    "mfcc_features = []\n",
    "max_length = 0\n",
    "\n",
    "for file_path in audio_files:\n",
    "    signal, sr = librosa.load(file_path)\n",
    "    mfcc = librosa.feature.mfcc(y = signal, sr=sr, n_mfcc=13)\n",
    "    mfcc_features.append(mfcc)\n",
    "    if mfcc.shape[1]>max_length :\n",
    "        max_length = mfcc.shape[1]\n",
    "        \n",
    "# Pad the MFCC coefficients with zeros\n",
    "\n",
    "padded_mfcc_list = []\n",
    "\n",
    "for mfcc in mfcc_features:\n",
    "    if mfcc.shape[1] < max_length:\n",
    "        pad_width = ((0, 0), (0, max_length - mfcc.shape[1]))\n",
    "        padded_mfcc = np.pad(mfcc, pad_width=pad_width, mode='constant', constant_values=0)\n",
    "        padded_mfcc_list.append(padded_mfcc)\n",
    "    else:\n",
    "        padded_mfcc_list.append(mfcc)\n",
    "\n",
    "# Stack the MFCC features for all repetitions of digit '4', Speaker 5\n",
    "\n",
    "digit_4_speaker_5 = np.stack(padded_mfcc_list, axis=0)\n",
    "print(digit_4_speaker_5.shape)"
   ]
  },
  {
   "cell_type": "code",
   "execution_count": 35,
   "id": "f9f4919d",
   "metadata": {},
   "outputs": [
    {
     "name": "stdout",
     "output_type": "stream",
     "text": [
      "(5, 13, 33)\n"
     ]
    }
   ],
   "source": [
    " # Load Audio file From Training Folder\n",
    "\n",
    "# Speaker Id = 6, Digit = 4, All the Utterences\n",
    "\n",
    "audio_files = ['/Users/arnav/Desktop/Assignment/Assignment-5/training/speaker06_4_1.wav',\n",
    "              '/Users/arnav/Desktop/Assignment/Assignment-5/training/speaker06_4_2.wav',\n",
    "              '/Users/arnav/Desktop/Assignment/Assignment-5/training/speaker06_4_3.wav',\n",
    "              '/Users/arnav/Desktop/Assignment/Assignment-5/training/speaker06_4_4.wav',\n",
    "              '/Users/arnav/Desktop/Assignment/Assignment-5/training/speaker06_4_5.wav']\n",
    "\n",
    "mfcc_features = []\n",
    "max_length = 0\n",
    "\n",
    "for file_path in audio_files:\n",
    "    signal, sr = librosa.load(file_path)\n",
    "    mfcc = librosa.feature.mfcc(y = signal, sr=sr, n_mfcc=13)\n",
    "    mfcc_features.append(mfcc)\n",
    "    if mfcc.shape[1]>max_length :\n",
    "        max_length = mfcc.shape[1]\n",
    "        \n",
    "# Pad the MFCC coefficients with zeros\n",
    "\n",
    "padded_mfcc_list = []\n",
    "\n",
    "for mfcc in mfcc_features:\n",
    "    if mfcc.shape[1] < max_length:\n",
    "        pad_width = ((0, 0), (0, max_length - mfcc.shape[1]))\n",
    "        padded_mfcc = np.pad(mfcc, pad_width=pad_width, mode='constant', constant_values=0)\n",
    "        padded_mfcc_list.append(padded_mfcc)\n",
    "    else:\n",
    "        padded_mfcc_list.append(mfcc)\n",
    "\n",
    "# Stack the MFCC features for all repetitions of digit '4', Speaker 6\n",
    "\n",
    "digit_4_speaker_6 = np.stack(padded_mfcc_list, axis=0)\n",
    "print(digit_4_speaker_6.shape)"
   ]
  },
  {
   "cell_type": "code",
   "execution_count": 36,
   "id": "260f38a1",
   "metadata": {},
   "outputs": [
    {
     "name": "stdout",
     "output_type": "stream",
     "text": [
      "(6, 5, 13, 36)\n"
     ]
    }
   ],
   "source": [
    "# Find the maximum size of the third dimension\n",
    "\n",
    "max_size = max(digit_4_speaker_1.shape[2], digit_4_speaker_2.shape[2], digit_4_speaker_3.shape[2], digit_4_speaker_4.shape[2], digit_4_speaker_5.shape[2], digit_4_speaker_6.shape[2])\n",
    "\n",
    "# Pad the arrays with zeros\n",
    "digit_4_speaker_1 = np.pad(digit_4_speaker_1, ((0,0),(0,0),(0,max_size-digit_4_speaker_1.shape[2])), mode='constant')\n",
    "digit_4_speaker_2 = np.pad(digit_4_speaker_2, ((0,0),(0,0),(0,max_size-digit_4_speaker_2.shape[2])), mode='constant')\n",
    "digit_4_speaker_3 = np.pad(digit_4_speaker_3, ((0,0),(0,0),(0,max_size-digit_4_speaker_3.shape[2])), mode='constant')\n",
    "digit_4_speaker_4 = np.pad(digit_4_speaker_4, ((0,0),(0,0),(0,max_size-digit_4_speaker_4.shape[2])), mode='constant')\n",
    "digit_4_speaker_5 = np.pad(digit_4_speaker_5, ((0,0),(0,0),(0,max_size-digit_4_speaker_5.shape[2])), mode='constant')\n",
    "digit_4_speaker_6 = np.pad(digit_4_speaker_6, ((0,0),(0,0),(0,max_size-digit_4_speaker_6.shape[2])), mode='constant')\n",
    "\n",
    "# Concatenate the padded arrays along the third axis\n",
    "digit_4_allspeaker = np.stack((digit_4_speaker_1, digit_4_speaker_2, digit_4_speaker_3, digit_4_speaker_4, digit_4_speaker_5, digit_4_speaker_6), axis=2)\n",
    "\n",
    "digit_4_allspeaker = np.transpose(digit_4_allspeaker, (2, 0, 1, 3))\n",
    "\n",
    "# Print the shape of the concatenated array\n",
    "print(digit_4_allspeaker.shape)\n"
   ]
  },
  {
   "cell_type": "markdown",
   "id": "78a07eb0",
   "metadata": {},
   "source": [
    "# All Utterences for Digit \"5\""
   ]
  },
  {
   "cell_type": "code",
   "execution_count": 37,
   "id": "d9dae844",
   "metadata": {},
   "outputs": [
    {
     "name": "stdout",
     "output_type": "stream",
     "text": [
      "(5, 13, 31)\n"
     ]
    }
   ],
   "source": [
    " # Load Audio file From Training Folder\n",
    "\n",
    "# Speaker Id = 1, Digit = 5, All the Utterences\n",
    "\n",
    "audio_files = ['/Users/arnav/Desktop/Assignment/Assignment-5/training/speaker01_5_1.wav',\n",
    "              '/Users/arnav/Desktop/Assignment/Assignment-5/training/speaker01_5_2.wav',\n",
    "              '/Users/arnav/Desktop/Assignment/Assignment-5/training/speaker01_5_3.wav',\n",
    "              '/Users/arnav/Desktop/Assignment/Assignment-5/training/speaker01_5_4.wav',\n",
    "              '/Users/arnav/Desktop/Assignment/Assignment-5/training/speaker01_5_5.wav']\n",
    "\n",
    "mfcc_features = []\n",
    "max_length = 0\n",
    "\n",
    "for file_path in audio_files:\n",
    "    signal, sr = librosa.load(file_path)\n",
    "    mfcc = librosa.feature.mfcc(y = signal, sr=sr, n_mfcc=13)\n",
    "    mfcc_features.append(mfcc)\n",
    "    if mfcc.shape[1]>max_length :\n",
    "        max_length = mfcc.shape[1]\n",
    "        \n",
    "# Pad the MFCC coefficients with zeros\n",
    "\n",
    "padded_mfcc_list = []\n",
    "\n",
    "for mfcc in mfcc_features:\n",
    "    if mfcc.shape[1] < max_length:\n",
    "        pad_width = ((0, 0), (0, max_length - mfcc.shape[1]))\n",
    "        padded_mfcc = np.pad(mfcc, pad_width=pad_width, mode='constant', constant_values=0)\n",
    "        padded_mfcc_list.append(padded_mfcc)\n",
    "    else:\n",
    "        padded_mfcc_list.append(mfcc)\n",
    "\n",
    "# Stack the MFCC features for all repetitions of digit '5', Speaker 1\n",
    "\n",
    "digit_5_speaker_1 = np.stack(padded_mfcc_list, axis=0)\n",
    "print(digit_5_speaker_1.shape)"
   ]
  },
  {
   "cell_type": "code",
   "execution_count": 38,
   "id": "fb2531d4",
   "metadata": {},
   "outputs": [
    {
     "name": "stdout",
     "output_type": "stream",
     "text": [
      "(5, 13, 32)\n"
     ]
    }
   ],
   "source": [
    " # Load Audio file From Training Folder\n",
    "\n",
    "# Speaker Id = 2, Digit = 5, All the Utterences\n",
    "\n",
    "audio_files = ['/Users/arnav/Desktop/Assignment/Assignment-5/training/speaker02_5_1.wav',\n",
    "              '/Users/arnav/Desktop/Assignment/Assignment-5/training/speaker02_5_2.wav',\n",
    "              '/Users/arnav/Desktop/Assignment/Assignment-5/training/speaker02_5_3.wav',\n",
    "              '/Users/arnav/Desktop/Assignment/Assignment-5/training/speaker02_5_4.wav',\n",
    "              '/Users/arnav/Desktop/Assignment/Assignment-5/training/speaker02_5_5.wav']\n",
    "\n",
    "mfcc_features = []\n",
    "max_length = 0\n",
    "\n",
    "for file_path in audio_files:\n",
    "    signal, sr = librosa.load(file_path)\n",
    "    mfcc = librosa.feature.mfcc(y = signal, sr=sr, n_mfcc=13)\n",
    "    mfcc_features.append(mfcc)\n",
    "    if mfcc.shape[1]>max_length :\n",
    "        max_length = mfcc.shape[1]\n",
    "        \n",
    "# Pad the MFCC coefficients with zeros\n",
    "\n",
    "padded_mfcc_list = []\n",
    "\n",
    "for mfcc in mfcc_features:\n",
    "    if mfcc.shape[1] < max_length:\n",
    "        pad_width = ((0, 0), (0, max_length - mfcc.shape[1]))\n",
    "        padded_mfcc = np.pad(mfcc, pad_width=pad_width, mode='constant', constant_values=0)\n",
    "        padded_mfcc_list.append(padded_mfcc)\n",
    "    else:\n",
    "        padded_mfcc_list.append(mfcc)\n",
    "\n",
    "# Stack the MFCC features for all repetitions of digit '5', Speaker 2\n",
    "\n",
    "digit_5_speaker_2 = np.stack(padded_mfcc_list, axis=0)\n",
    "print(digit_5_speaker_2.shape)"
   ]
  },
  {
   "cell_type": "code",
   "execution_count": 39,
   "id": "cf3eb5f3",
   "metadata": {},
   "outputs": [
    {
     "name": "stdout",
     "output_type": "stream",
     "text": [
      "(5, 13, 32)\n"
     ]
    }
   ],
   "source": [
    " # Load Audio file From Training Folder\n",
    "\n",
    "# Speaker Id = 3, Digit = 5, All the Utterences\n",
    "\n",
    "audio_files = ['/Users/arnav/Desktop/Assignment/Assignment-5/training/speaker03_5_1.wav',\n",
    "              '/Users/arnav/Desktop/Assignment/Assignment-5/training/speaker03_5_2.wav',\n",
    "              '/Users/arnav/Desktop/Assignment/Assignment-5/training/speaker03_5_3.wav',\n",
    "              '/Users/arnav/Desktop/Assignment/Assignment-5/training/speaker03_5_4.wav',\n",
    "              '/Users/arnav/Desktop/Assignment/Assignment-5/training/speaker03_5_5.wav']\n",
    "\n",
    "mfcc_features = []\n",
    "max_length = 0\n",
    "\n",
    "for file_path in audio_files:\n",
    "    signal, sr = librosa.load(file_path)\n",
    "    mfcc = librosa.feature.mfcc(y = signal, sr=sr, n_mfcc=13)\n",
    "    mfcc_features.append(mfcc)\n",
    "    if mfcc.shape[1]>max_length :\n",
    "        max_length = mfcc.shape[1]\n",
    "        \n",
    "# Pad the MFCC coefficients with zeros\n",
    "\n",
    "padded_mfcc_list = []\n",
    "\n",
    "for mfcc in mfcc_features:\n",
    "    if mfcc.shape[1] < max_length:\n",
    "        pad_width = ((0, 0), (0, max_length - mfcc.shape[1]))\n",
    "        padded_mfcc = np.pad(mfcc, pad_width=pad_width, mode='constant', constant_values=0)\n",
    "        padded_mfcc_list.append(padded_mfcc)\n",
    "    else:\n",
    "        padded_mfcc_list.append(mfcc)\n",
    "\n",
    "# Stack the MFCC features for all repetitions of digit '5', Speaker 3\n",
    "\n",
    "digit_5_speaker_3 = np.stack(padded_mfcc_list, axis=0)\n",
    "print(digit_5_speaker_3.shape)"
   ]
  },
  {
   "cell_type": "code",
   "execution_count": 40,
   "id": "67c4643d",
   "metadata": {},
   "outputs": [
    {
     "name": "stdout",
     "output_type": "stream",
     "text": [
      "(5, 13, 31)\n"
     ]
    }
   ],
   "source": [
    " # Load Audio file From Training Folder\n",
    "\n",
    "# Speaker Id = 4, Digit = 5, All the Utterences\n",
    "\n",
    "audio_files = ['/Users/arnav/Desktop/Assignment/Assignment-5/training/speaker04_5_1.wav',\n",
    "              '/Users/arnav/Desktop/Assignment/Assignment-5/training/speaker04_5_2.wav',\n",
    "              '/Users/arnav/Desktop/Assignment/Assignment-5/training/speaker04_5_3.wav',\n",
    "              '/Users/arnav/Desktop/Assignment/Assignment-5/training/speaker04_5_4.wav',\n",
    "              '/Users/arnav/Desktop/Assignment/Assignment-5/training/speaker04_5_5.wav']\n",
    "\n",
    "mfcc_features = []\n",
    "max_length = 0\n",
    "\n",
    "for file_path in audio_files:\n",
    "    signal, sr = librosa.load(file_path)\n",
    "    mfcc = librosa.feature.mfcc(y = signal, sr=sr, n_mfcc=13)\n",
    "    mfcc_features.append(mfcc)\n",
    "    if mfcc.shape[1]>max_length :\n",
    "        max_length = mfcc.shape[1]\n",
    "        \n",
    "# Pad the MFCC coefficients with zeros\n",
    "\n",
    "padded_mfcc_list = []\n",
    "\n",
    "for mfcc in mfcc_features:\n",
    "    if mfcc.shape[1] < max_length:\n",
    "        pad_width = ((0, 0), (0, max_length - mfcc.shape[1]))\n",
    "        padded_mfcc = np.pad(mfcc, pad_width=pad_width, mode='constant', constant_values=0)\n",
    "        padded_mfcc_list.append(padded_mfcc)\n",
    "    else:\n",
    "        padded_mfcc_list.append(mfcc)\n",
    "\n",
    "# Stack the MFCC features for all repetitions of digit '5', Speaker 4\n",
    "\n",
    "digit_5_speaker_4 = np.stack(padded_mfcc_list, axis=0)\n",
    "print(digit_5_speaker_4.shape)"
   ]
  },
  {
   "cell_type": "code",
   "execution_count": 41,
   "id": "300db4c4",
   "metadata": {},
   "outputs": [
    {
     "name": "stdout",
     "output_type": "stream",
     "text": [
      "(5, 13, 29)\n"
     ]
    }
   ],
   "source": [
    " # Load Audio file From Training Folder\n",
    "\n",
    "# Speaker Id = 5, Digit = 5, All the Utterences\n",
    "\n",
    "audio_files = ['/Users/arnav/Desktop/Assignment/Assignment-5/training/speaker05_5_1.wav',\n",
    "              '/Users/arnav/Desktop/Assignment/Assignment-5/training/speaker05_5_2.wav',\n",
    "              '/Users/arnav/Desktop/Assignment/Assignment-5/training/speaker05_5_3.wav',\n",
    "              '/Users/arnav/Desktop/Assignment/Assignment-5/training/speaker05_5_4.wav',\n",
    "              '/Users/arnav/Desktop/Assignment/Assignment-5/training/speaker05_5_5.wav']\n",
    "\n",
    "mfcc_features = []\n",
    "max_length = 0\n",
    "\n",
    "for file_path in audio_files:\n",
    "    signal, sr = librosa.load(file_path)\n",
    "    mfcc = librosa.feature.mfcc(y = signal, sr=sr, n_mfcc=13)\n",
    "    mfcc_features.append(mfcc)\n",
    "    if mfcc.shape[1]>max_length :\n",
    "        max_length = mfcc.shape[1]\n",
    "        \n",
    "# Pad the MFCC coefficients with zeros\n",
    "\n",
    "padded_mfcc_list = []\n",
    "\n",
    "for mfcc in mfcc_features:\n",
    "    if mfcc.shape[1] < max_length:\n",
    "        pad_width = ((0, 0), (0, max_length - mfcc.shape[1]))\n",
    "        padded_mfcc = np.pad(mfcc, pad_width=pad_width, mode='constant', constant_values=0)\n",
    "        padded_mfcc_list.append(padded_mfcc)\n",
    "    else:\n",
    "        padded_mfcc_list.append(mfcc)\n",
    "\n",
    "# Stack the MFCC features for all repetitions of digit '5', Speaker 5\n",
    "\n",
    "digit_5_speaker_5 = np.stack(padded_mfcc_list, axis=0)\n",
    "print(digit_5_speaker_5.shape)"
   ]
  },
  {
   "cell_type": "code",
   "execution_count": 42,
   "id": "40051657",
   "metadata": {},
   "outputs": [
    {
     "name": "stdout",
     "output_type": "stream",
     "text": [
      "(5, 13, 32)\n"
     ]
    }
   ],
   "source": [
    " # Load Audio file From Training Folder\n",
    "\n",
    "# Speaker Id = 6, Digit = 5, All the Utterences\n",
    "\n",
    "audio_files = ['/Users/arnav/Desktop/Assignment/Assignment-5/training/speaker06_5_1.wav',\n",
    "              '/Users/arnav/Desktop/Assignment/Assignment-5/training/speaker06_5_2.wav',\n",
    "              '/Users/arnav/Desktop/Assignment/Assignment-5/training/speaker06_5_3.wav',\n",
    "              '/Users/arnav/Desktop/Assignment/Assignment-5/training/speaker06_5_4.wav',\n",
    "              '/Users/arnav/Desktop/Assignment/Assignment-5/training/speaker06_5_5.wav']\n",
    "\n",
    "mfcc_features = []\n",
    "max_length = 0\n",
    "\n",
    "for file_path in audio_files:\n",
    "    signal, sr = librosa.load(file_path)\n",
    "    mfcc = librosa.feature.mfcc(y = signal, sr=sr, n_mfcc=13)\n",
    "    mfcc_features.append(mfcc)\n",
    "    if mfcc.shape[1]>max_length :\n",
    "        max_length = mfcc.shape[1]\n",
    "        \n",
    "# Pad the MFCC coefficients with zeros\n",
    "\n",
    "padded_mfcc_list = []\n",
    "\n",
    "for mfcc in mfcc_features:\n",
    "    if mfcc.shape[1] < max_length:\n",
    "        pad_width = ((0, 0), (0, max_length - mfcc.shape[1]))\n",
    "        padded_mfcc = np.pad(mfcc, pad_width=pad_width, mode='constant', constant_values=0)\n",
    "        padded_mfcc_list.append(padded_mfcc)\n",
    "    else:\n",
    "        padded_mfcc_list.append(mfcc)\n",
    "\n",
    "# Stack the MFCC features for all repetitions of digit '5', Speaker 6\n",
    "\n",
    "digit_5_speaker_6 = np.stack(padded_mfcc_list, axis=0)\n",
    "print(digit_5_speaker_6.shape)"
   ]
  },
  {
   "cell_type": "code",
   "execution_count": 43,
   "id": "09b8c381",
   "metadata": {},
   "outputs": [
    {
     "name": "stdout",
     "output_type": "stream",
     "text": [
      "(6, 5, 13, 32)\n"
     ]
    }
   ],
   "source": [
    "# Find the maximum size of the third dimension\n",
    "\n",
    "max_size = max(digit_5_speaker_1.shape[2], digit_5_speaker_2.shape[2], digit_5_speaker_3.shape[2], digit_5_speaker_4.shape[2], digit_5_speaker_5.shape[2], digit_5_speaker_6.shape[2])\n",
    "\n",
    "# Pad the arrays with zeros\n",
    "digit_5_speaker_1 = np.pad(digit_5_speaker_1, ((0,0),(0,0),(0,max_size-digit_5_speaker_1.shape[2])), mode='constant')\n",
    "digit_5_speaker_2 = np.pad(digit_5_speaker_2, ((0,0),(0,0),(0,max_size-digit_5_speaker_2.shape[2])), mode='constant')\n",
    "digit_5_speaker_3 = np.pad(digit_5_speaker_3, ((0,0),(0,0),(0,max_size-digit_5_speaker_3.shape[2])), mode='constant')\n",
    "digit_5_speaker_4 = np.pad(digit_5_speaker_4, ((0,0),(0,0),(0,max_size-digit_5_speaker_4.shape[2])), mode='constant')\n",
    "digit_5_speaker_5 = np.pad(digit_5_speaker_5, ((0,0),(0,0),(0,max_size-digit_5_speaker_5.shape[2])), mode='constant')\n",
    "digit_5_speaker_6 = np.pad(digit_5_speaker_6, ((0,0),(0,0),(0,max_size-digit_5_speaker_6.shape[2])), mode='constant')\n",
    "\n",
    "# Concatenate the padded arrays along the third axis\n",
    "digit_5_allspeaker = np.stack((digit_5_speaker_1, digit_5_speaker_2, digit_5_speaker_3, digit_5_speaker_4, digit_5_speaker_5, digit_5_speaker_6), axis=2)\n",
    "\n",
    "digit_5_allspeaker = np.transpose(digit_5_allspeaker, (2, 0, 1, 3))\n",
    "\n",
    "# Print the shape of the concatenated array\n",
    "print(digit_5_allspeaker.shape)\n"
   ]
  },
  {
   "cell_type": "markdown",
   "id": "638b4ff4",
   "metadata": {},
   "source": [
    "# All Utterences for Digit \"6\""
   ]
  },
  {
   "cell_type": "code",
   "execution_count": 44,
   "id": "222659b9",
   "metadata": {},
   "outputs": [
    {
     "name": "stdout",
     "output_type": "stream",
     "text": [
      "(5, 13, 28)\n"
     ]
    }
   ],
   "source": [
    " # Load Audio file From Training Folder\n",
    "\n",
    "# Speaker Id = 1, Digit = 6, All the Utterences\n",
    "\n",
    "audio_files = ['/Users/arnav/Desktop/Assignment/Assignment-5/training/speaker01_6_1.wav',\n",
    "              '/Users/arnav/Desktop/Assignment/Assignment-5/training/speaker01_6_2.wav',\n",
    "              '/Users/arnav/Desktop/Assignment/Assignment-5/training/speaker01_6_3.wav',\n",
    "              '/Users/arnav/Desktop/Assignment/Assignment-5/training/speaker01_6_4.wav',\n",
    "              '/Users/arnav/Desktop/Assignment/Assignment-5/training/speaker01_6_5.wav']\n",
    "\n",
    "mfcc_features = []\n",
    "max_length = 0\n",
    "\n",
    "for file_path in audio_files:\n",
    "    signal, sr = librosa.load(file_path)\n",
    "    mfcc = librosa.feature.mfcc(y = signal, sr=sr, n_mfcc=13)\n",
    "    mfcc_features.append(mfcc)\n",
    "    if mfcc.shape[1]>max_length :\n",
    "        max_length = mfcc.shape[1]\n",
    "        \n",
    "# Pad the MFCC coefficients with zeros\n",
    "\n",
    "padded_mfcc_list = []\n",
    "\n",
    "for mfcc in mfcc_features:\n",
    "    if mfcc.shape[1] < max_length:\n",
    "        pad_width = ((0, 0), (0, max_length - mfcc.shape[1]))\n",
    "        padded_mfcc = np.pad(mfcc, pad_width=pad_width, mode='constant', constant_values=0)\n",
    "        padded_mfcc_list.append(padded_mfcc)\n",
    "    else:\n",
    "        padded_mfcc_list.append(mfcc)\n",
    "\n",
    "# Stack the MFCC features for all repetitions of digit '6', Speaker 1\n",
    "\n",
    "digit_6_speaker_1 = np.stack(padded_mfcc_list, axis=0)\n",
    "print(digit_6_speaker_1.shape)"
   ]
  },
  {
   "cell_type": "code",
   "execution_count": 45,
   "id": "d83ac1de",
   "metadata": {},
   "outputs": [
    {
     "name": "stdout",
     "output_type": "stream",
     "text": [
      "(5, 13, 28)\n"
     ]
    }
   ],
   "source": [
    " # Load Audio file From Training Folder\n",
    "\n",
    "# Speaker Id = 2, Digit = 6, All the Utterences\n",
    "\n",
    "audio_files = ['/Users/arnav/Desktop/Assignment/Assignment-5/training/speaker02_6_1.wav',\n",
    "              '/Users/arnav/Desktop/Assignment/Assignment-5/training/speaker02_6_2.wav',\n",
    "              '/Users/arnav/Desktop/Assignment/Assignment-5/training/speaker02_6_3.wav',\n",
    "              '/Users/arnav/Desktop/Assignment/Assignment-5/training/speaker02_6_4.wav',\n",
    "              '/Users/arnav/Desktop/Assignment/Assignment-5/training/speaker02_6_5.wav']\n",
    "\n",
    "mfcc_features = []\n",
    "max_length = 0\n",
    "\n",
    "for file_path in audio_files:\n",
    "    signal, sr = librosa.load(file_path)\n",
    "    mfcc = librosa.feature.mfcc(y = signal, sr=sr, n_mfcc=13)\n",
    "    mfcc_features.append(mfcc)\n",
    "    if mfcc.shape[1]>max_length :\n",
    "        max_length = mfcc.shape[1]\n",
    "        \n",
    "# Pad the MFCC coefficients with zeros\n",
    "\n",
    "padded_mfcc_list = []\n",
    "\n",
    "for mfcc in mfcc_features:\n",
    "    if mfcc.shape[1] < max_length:\n",
    "        pad_width = ((0, 0), (0, max_length - mfcc.shape[1]))\n",
    "        padded_mfcc = np.pad(mfcc, pad_width=pad_width, mode='constant', constant_values=0)\n",
    "        padded_mfcc_list.append(padded_mfcc)\n",
    "    else:\n",
    "        padded_mfcc_list.append(mfcc)\n",
    "\n",
    "# Stack the MFCC features for all repetitions of digit '6', Speaker 2\n",
    "\n",
    "digit_6_speaker_2 = np.stack(padded_mfcc_list, axis=0)\n",
    "print(digit_6_speaker_2.shape)"
   ]
  },
  {
   "cell_type": "code",
   "execution_count": 46,
   "id": "b81703ab",
   "metadata": {},
   "outputs": [
    {
     "name": "stdout",
     "output_type": "stream",
     "text": [
      "(5, 13, 29)\n"
     ]
    }
   ],
   "source": [
    " # Load Audio file From Training Folder\n",
    "\n",
    "# Speaker Id = 3, Digit = 6, All the Utterences\n",
    "\n",
    "audio_files = ['/Users/arnav/Desktop/Assignment/Assignment-5/training/speaker03_6_1.wav',\n",
    "              '/Users/arnav/Desktop/Assignment/Assignment-5/training/speaker03_6_2.wav',\n",
    "              '/Users/arnav/Desktop/Assignment/Assignment-5/training/speaker03_6_3.wav',\n",
    "              '/Users/arnav/Desktop/Assignment/Assignment-5/training/speaker03_6_4.wav',\n",
    "              '/Users/arnav/Desktop/Assignment/Assignment-5/training/speaker03_6_5.wav']\n",
    "\n",
    "mfcc_features = []\n",
    "max_length = 0\n",
    "\n",
    "for file_path in audio_files:\n",
    "    signal, sr = librosa.load(file_path)\n",
    "    mfcc = librosa.feature.mfcc(y = signal, sr=sr, n_mfcc=13)\n",
    "    mfcc_features.append(mfcc)\n",
    "    if mfcc.shape[1]>max_length :\n",
    "        max_length = mfcc.shape[1]\n",
    "        \n",
    "# Pad the MFCC coefficients with zeros\n",
    "\n",
    "padded_mfcc_list = []\n",
    "\n",
    "for mfcc in mfcc_features:\n",
    "    if mfcc.shape[1] < max_length:\n",
    "        pad_width = ((0, 0), (0, max_length - mfcc.shape[1]))\n",
    "        padded_mfcc = np.pad(mfcc, pad_width=pad_width, mode='constant', constant_values=0)\n",
    "        padded_mfcc_list.append(padded_mfcc)\n",
    "    else:\n",
    "        padded_mfcc_list.append(mfcc)\n",
    "\n",
    "# Stack the MFCC features for all repetitions of digit '6', Speaker 3\n",
    "\n",
    "digit_6_speaker_3 = np.stack(padded_mfcc_list, axis=0)\n",
    "print(digit_6_speaker_3.shape)"
   ]
  },
  {
   "cell_type": "code",
   "execution_count": 47,
   "id": "180649ea",
   "metadata": {},
   "outputs": [
    {
     "name": "stdout",
     "output_type": "stream",
     "text": [
      "(5, 13, 27)\n"
     ]
    }
   ],
   "source": [
    " # Load Audio file From Training Folder\n",
    "\n",
    "# Speaker Id = 4, Digit = 6, All the Utterences\n",
    "\n",
    "audio_files = ['/Users/arnav/Desktop/Assignment/Assignment-5/training/speaker04_6_1.wav',\n",
    "              '/Users/arnav/Desktop/Assignment/Assignment-5/training/speaker04_6_2.wav',\n",
    "              '/Users/arnav/Desktop/Assignment/Assignment-5/training/speaker04_6_3.wav',\n",
    "              '/Users/arnav/Desktop/Assignment/Assignment-5/training/speaker04_6_4.wav',\n",
    "              '/Users/arnav/Desktop/Assignment/Assignment-5/training/speaker04_6_5.wav']\n",
    "\n",
    "mfcc_features = []\n",
    "max_length = 0\n",
    "\n",
    "for file_path in audio_files:\n",
    "    signal, sr = librosa.load(file_path)\n",
    "    mfcc = librosa.feature.mfcc(y = signal, sr=sr, n_mfcc=13)\n",
    "    mfcc_features.append(mfcc)\n",
    "    if mfcc.shape[1]>max_length :\n",
    "        max_length = mfcc.shape[1]\n",
    "        \n",
    "# Pad the MFCC coefficients with zeros\n",
    "\n",
    "padded_mfcc_list = []\n",
    "\n",
    "for mfcc in mfcc_features:\n",
    "    if mfcc.shape[1] < max_length:\n",
    "        pad_width = ((0, 0), (0, max_length - mfcc.shape[1]))\n",
    "        padded_mfcc = np.pad(mfcc, pad_width=pad_width, mode='constant', constant_values=0)\n",
    "        padded_mfcc_list.append(padded_mfcc)\n",
    "    else:\n",
    "        padded_mfcc_list.append(mfcc)\n",
    "\n",
    "# Stack the MFCC features for all repetitions of digit '6', Speaker 4\n",
    "\n",
    "digit_6_speaker_4 = np.stack(padded_mfcc_list, axis=0)\n",
    "print(digit_6_speaker_4.shape)"
   ]
  },
  {
   "cell_type": "code",
   "execution_count": 48,
   "id": "af7d0546",
   "metadata": {},
   "outputs": [
    {
     "name": "stdout",
     "output_type": "stream",
     "text": [
      "(5, 13, 26)\n"
     ]
    }
   ],
   "source": [
    " # Load Audio file From Training Folder\n",
    "\n",
    "# Speaker Id = 5, Digit = 6, All the Utterences\n",
    "\n",
    "audio_files = ['/Users/arnav/Desktop/Assignment/Assignment-5/training/speaker05_6_1.wav',\n",
    "              '/Users/arnav/Desktop/Assignment/Assignment-5/training/speaker05_6_2.wav',\n",
    "              '/Users/arnav/Desktop/Assignment/Assignment-5/training/speaker05_6_3.wav',\n",
    "              '/Users/arnav/Desktop/Assignment/Assignment-5/training/speaker05_6_4.wav',\n",
    "              '/Users/arnav/Desktop/Assignment/Assignment-5/training/speaker05_6_5.wav']\n",
    "\n",
    "mfcc_features = []\n",
    "max_length = 0\n",
    "\n",
    "for file_path in audio_files:\n",
    "    signal, sr = librosa.load(file_path)\n",
    "    mfcc = librosa.feature.mfcc(y = signal, sr=sr, n_mfcc=13)\n",
    "    mfcc_features.append(mfcc)\n",
    "    if mfcc.shape[1]>max_length :\n",
    "        max_length = mfcc.shape[1]\n",
    "        \n",
    "# Pad the MFCC coefficients with zeros\n",
    "\n",
    "padded_mfcc_list = []\n",
    "\n",
    "for mfcc in mfcc_features:\n",
    "    if mfcc.shape[1] < max_length:\n",
    "        pad_width = ((0, 0), (0, max_length - mfcc.shape[1]))\n",
    "        padded_mfcc = np.pad(mfcc, pad_width=pad_width, mode='constant', constant_values=0)\n",
    "        padded_mfcc_list.append(padded_mfcc)\n",
    "    else:\n",
    "        padded_mfcc_list.append(mfcc)\n",
    "\n",
    "# Stack the MFCC features for all repetitions of digit '6', Speaker 5\n",
    "\n",
    "digit_6_speaker_5 = np.stack(padded_mfcc_list, axis=0)\n",
    "print(digit_6_speaker_5.shape)"
   ]
  },
  {
   "cell_type": "code",
   "execution_count": 49,
   "id": "2064dc25",
   "metadata": {},
   "outputs": [
    {
     "name": "stdout",
     "output_type": "stream",
     "text": [
      "(5, 13, 27)\n"
     ]
    }
   ],
   "source": [
    " # Load Audio file From Training Folder\n",
    "\n",
    "# Speaker Id = 6, Digit = 6, All the Utterences\n",
    "\n",
    "audio_files = ['/Users/arnav/Desktop/Assignment/Assignment-5/training/speaker06_6_1.wav',\n",
    "              '/Users/arnav/Desktop/Assignment/Assignment-5/training/speaker06_6_2.wav',\n",
    "              '/Users/arnav/Desktop/Assignment/Assignment-5/training/speaker06_6_3.wav',\n",
    "              '/Users/arnav/Desktop/Assignment/Assignment-5/training/speaker06_6_4.wav',\n",
    "              '/Users/arnav/Desktop/Assignment/Assignment-5/training/speaker06_6_5.wav']\n",
    "\n",
    "mfcc_features = []\n",
    "max_length = 0\n",
    "\n",
    "for file_path in audio_files:\n",
    "    signal, sr = librosa.load(file_path)\n",
    "    mfcc = librosa.feature.mfcc(y = signal, sr=sr, n_mfcc=13)\n",
    "    mfcc_features.append(mfcc)\n",
    "    if mfcc.shape[1]>max_length :\n",
    "        max_length = mfcc.shape[1]\n",
    "        \n",
    "# Pad the MFCC coefficients with zeros\n",
    "\n",
    "padded_mfcc_list = []\n",
    "\n",
    "for mfcc in mfcc_features:\n",
    "    if mfcc.shape[1] < max_length:\n",
    "        pad_width = ((0, 0), (0, max_length - mfcc.shape[1]))\n",
    "        padded_mfcc = np.pad(mfcc, pad_width=pad_width, mode='constant', constant_values=0)\n",
    "        padded_mfcc_list.append(padded_mfcc)\n",
    "    else:\n",
    "        padded_mfcc_list.append(mfcc)\n",
    "\n",
    "# Stack the MFCC features for all repetitions of digit '6', Speaker 6\n",
    "\n",
    "digit_6_speaker_6 = np.stack(padded_mfcc_list, axis=0)\n",
    "print(digit_6_speaker_6.shape)"
   ]
  },
  {
   "cell_type": "code",
   "execution_count": 50,
   "id": "6f968b18",
   "metadata": {},
   "outputs": [
    {
     "name": "stdout",
     "output_type": "stream",
     "text": [
      "(6, 5, 13, 29)\n"
     ]
    }
   ],
   "source": [
    "# Find the maximum size of the third dimension\n",
    "\n",
    "max_size = max(digit_6_speaker_1.shape[2], digit_6_speaker_2.shape[2], digit_6_speaker_3.shape[2], digit_6_speaker_4.shape[2], digit_6_speaker_5.shape[2], digit_6_speaker_6.shape[2])\n",
    "\n",
    "# Pad the arrays with zeros\n",
    "digit_6_speaker_1 = np.pad(digit_6_speaker_1, ((0,0),(0,0),(0,max_size-digit_6_speaker_1.shape[2])), mode='constant')\n",
    "digit_6_speaker_2 = np.pad(digit_6_speaker_2, ((0,0),(0,0),(0,max_size-digit_6_speaker_2.shape[2])), mode='constant')\n",
    "digit_6_speaker_3 = np.pad(digit_6_speaker_3, ((0,0),(0,0),(0,max_size-digit_6_speaker_3.shape[2])), mode='constant')\n",
    "digit_6_speaker_4 = np.pad(digit_6_speaker_4, ((0,0),(0,0),(0,max_size-digit_6_speaker_4.shape[2])), mode='constant')\n",
    "digit_6_speaker_5 = np.pad(digit_6_speaker_5, ((0,0),(0,0),(0,max_size-digit_6_speaker_5.shape[2])), mode='constant')\n",
    "digit_6_speaker_6 = np.pad(digit_6_speaker_6, ((0,0),(0,0),(0,max_size-digit_6_speaker_6.shape[2])), mode='constant')\n",
    "\n",
    "# Concatenate the padded arrays along the third axis\n",
    "digit_6_allspeaker = np.stack((digit_6_speaker_1, digit_6_speaker_2, digit_6_speaker_3, digit_6_speaker_4, digit_6_speaker_5, digit_6_speaker_6), axis=2)\n",
    "\n",
    "digit_6_allspeaker = np.transpose(digit_6_allspeaker, (2, 0, 1, 3))\n",
    "\n",
    "# Print the shape of the concatenated array\n",
    "print(digit_6_allspeaker.shape)\n"
   ]
  },
  {
   "cell_type": "markdown",
   "id": "6ea25f18",
   "metadata": {},
   "source": [
    "# All Utterences for Digit \"7\""
   ]
  },
  {
   "cell_type": "code",
   "execution_count": 51,
   "id": "eafe2034",
   "metadata": {},
   "outputs": [
    {
     "name": "stdout",
     "output_type": "stream",
     "text": [
      "(5, 13, 35)\n"
     ]
    }
   ],
   "source": [
    " # Load Audio file From Training Folder\n",
    "\n",
    "# Speaker Id = 1, Digit = 7, All the Utterences\n",
    "\n",
    "audio_files = ['/Users/arnav/Desktop/Assignment/Assignment-5/training/speaker01_7_1.wav',\n",
    "              '/Users/arnav/Desktop/Assignment/Assignment-5/training/speaker01_7_2.wav',\n",
    "              '/Users/arnav/Desktop/Assignment/Assignment-5/training/speaker01_7_3.wav',\n",
    "              '/Users/arnav/Desktop/Assignment/Assignment-5/training/speaker01_7_4.wav',\n",
    "              '/Users/arnav/Desktop/Assignment/Assignment-5/training/speaker01_7_5.wav']\n",
    "\n",
    "mfcc_features = []\n",
    "max_length = 0\n",
    "\n",
    "for file_path in audio_files:\n",
    "    signal, sr = librosa.load(file_path)\n",
    "    mfcc = librosa.feature.mfcc(y = signal, sr=sr, n_mfcc=13)\n",
    "    mfcc_features.append(mfcc)\n",
    "    if mfcc.shape[1]>max_length :\n",
    "        max_length = mfcc.shape[1]\n",
    "        \n",
    "# Pad the MFCC coefficients with zeros\n",
    "\n",
    "padded_mfcc_list = []\n",
    "\n",
    "for mfcc in mfcc_features:\n",
    "    if mfcc.shape[1] < max_length:\n",
    "        pad_width = ((0, 0), (0, max_length - mfcc.shape[1]))\n",
    "        padded_mfcc = np.pad(mfcc, pad_width=pad_width, mode='constant', constant_values=0)\n",
    "        padded_mfcc_list.append(padded_mfcc)\n",
    "    else:\n",
    "        padded_mfcc_list.append(mfcc)\n",
    "\n",
    "# Stack the MFCC features for all repetitions of digit '7', Speaker 1\n",
    "\n",
    "digit_7_speaker_1 = np.stack(padded_mfcc_list, axis=0)\n",
    "print(digit_7_speaker_1.shape)"
   ]
  },
  {
   "cell_type": "code",
   "execution_count": 52,
   "id": "1a903e69",
   "metadata": {},
   "outputs": [
    {
     "name": "stdout",
     "output_type": "stream",
     "text": [
      "(5, 13, 35)\n"
     ]
    }
   ],
   "source": [
    " # Load Audio file From Training Folder\n",
    "\n",
    "# Speaker Id = 2, Digit = 7, All the Utterences\n",
    "\n",
    "audio_files = ['/Users/arnav/Desktop/Assignment/Assignment-5/training/speaker02_7_1.wav',\n",
    "              '/Users/arnav/Desktop/Assignment/Assignment-5/training/speaker02_7_2.wav',\n",
    "              '/Users/arnav/Desktop/Assignment/Assignment-5/training/speaker02_7_3.wav',\n",
    "              '/Users/arnav/Desktop/Assignment/Assignment-5/training/speaker02_7_4.wav',\n",
    "              '/Users/arnav/Desktop/Assignment/Assignment-5/training/speaker02_7_5.wav']\n",
    "\n",
    "mfcc_features = []\n",
    "max_length = 0\n",
    "\n",
    "for file_path in audio_files:\n",
    "    signal, sr = librosa.load(file_path)\n",
    "    mfcc = librosa.feature.mfcc(y = signal, sr=sr, n_mfcc=13)\n",
    "    mfcc_features.append(mfcc)\n",
    "    if mfcc.shape[1]>max_length :\n",
    "        max_length = mfcc.shape[1]\n",
    "        \n",
    "# Pad the MFCC coefficients with zeros\n",
    "\n",
    "padded_mfcc_list = []\n",
    "\n",
    "for mfcc in mfcc_features:\n",
    "    if mfcc.shape[1] < max_length:\n",
    "        pad_width = ((0, 0), (0, max_length - mfcc.shape[1]))\n",
    "        padded_mfcc = np.pad(mfcc, pad_width=pad_width, mode='constant', constant_values=0)\n",
    "        padded_mfcc_list.append(padded_mfcc)\n",
    "    else:\n",
    "        padded_mfcc_list.append(mfcc)\n",
    "\n",
    "# Stack the MFCC features for all repetitions of digit '7', Speaker 2\n",
    "\n",
    "digit_7_speaker_2 = np.stack(padded_mfcc_list, axis=0)\n",
    "print(digit_7_speaker_2.shape)"
   ]
  },
  {
   "cell_type": "code",
   "execution_count": 53,
   "id": "14eaaa8e",
   "metadata": {},
   "outputs": [
    {
     "name": "stdout",
     "output_type": "stream",
     "text": [
      "(5, 13, 34)\n"
     ]
    }
   ],
   "source": [
    " # Load Audio file From Training Folder\n",
    "\n",
    "# Speaker Id = 3, Digit = 7, All the Utterences\n",
    "\n",
    "audio_files = ['/Users/arnav/Desktop/Assignment/Assignment-5/training/speaker03_7_1.wav',\n",
    "              '/Users/arnav/Desktop/Assignment/Assignment-5/training/speaker03_7_2.wav',\n",
    "              '/Users/arnav/Desktop/Assignment/Assignment-5/training/speaker03_7_3.wav',\n",
    "              '/Users/arnav/Desktop/Assignment/Assignment-5/training/speaker03_7_4.wav',\n",
    "              '/Users/arnav/Desktop/Assignment/Assignment-5/training/speaker03_7_5.wav']\n",
    "\n",
    "mfcc_features = []\n",
    "max_length = 0\n",
    "\n",
    "for file_path in audio_files:\n",
    "    signal, sr = librosa.load(file_path)\n",
    "    mfcc = librosa.feature.mfcc(y = signal, sr=sr, n_mfcc=13)\n",
    "    mfcc_features.append(mfcc)\n",
    "    if mfcc.shape[1]>max_length :\n",
    "        max_length = mfcc.shape[1]\n",
    "        \n",
    "# Pad the MFCC coefficients with zeros\n",
    "\n",
    "padded_mfcc_list = []\n",
    "\n",
    "for mfcc in mfcc_features:\n",
    "    if mfcc.shape[1] < max_length:\n",
    "        pad_width = ((0, 0), (0, max_length - mfcc.shape[1]))\n",
    "        padded_mfcc = np.pad(mfcc, pad_width=pad_width, mode='constant', constant_values=0)\n",
    "        padded_mfcc_list.append(padded_mfcc)\n",
    "    else:\n",
    "        padded_mfcc_list.append(mfcc)\n",
    "\n",
    "# Stack the MFCC features for all repetitions of digit '7', Speaker 3\n",
    "\n",
    "digit_7_speaker_3 = np.stack(padded_mfcc_list, axis=0)\n",
    "print(digit_7_speaker_3.shape)"
   ]
  },
  {
   "cell_type": "code",
   "execution_count": 54,
   "id": "5de8d047",
   "metadata": {},
   "outputs": [
    {
     "name": "stdout",
     "output_type": "stream",
     "text": [
      "(5, 13, 33)\n"
     ]
    }
   ],
   "source": [
    " # Load Audio file From Training Folder\n",
    "\n",
    "# Speaker Id = 4, Digit = 7, All the Utterences\n",
    "\n",
    "audio_files = ['/Users/arnav/Desktop/Assignment/Assignment-5/training/speaker04_7_1.wav',\n",
    "              '/Users/arnav/Desktop/Assignment/Assignment-5/training/speaker04_7_2.wav',\n",
    "              '/Users/arnav/Desktop/Assignment/Assignment-5/training/speaker04_7_3.wav',\n",
    "              '/Users/arnav/Desktop/Assignment/Assignment-5/training/speaker04_7_4.wav',\n",
    "              '/Users/arnav/Desktop/Assignment/Assignment-5/training/speaker04_7_5.wav']\n",
    "\n",
    "mfcc_features = []\n",
    "max_length = 0\n",
    "\n",
    "for file_path in audio_files:\n",
    "    signal, sr = librosa.load(file_path)\n",
    "    mfcc = librosa.feature.mfcc(y = signal, sr=sr, n_mfcc=13)\n",
    "    mfcc_features.append(mfcc)\n",
    "    if mfcc.shape[1]>max_length :\n",
    "        max_length = mfcc.shape[1]\n",
    "        \n",
    "# Pad the MFCC coefficients with zeros\n",
    "\n",
    "padded_mfcc_list = []\n",
    "\n",
    "for mfcc in mfcc_features:\n",
    "    if mfcc.shape[1] < max_length:\n",
    "        pad_width = ((0, 0), (0, max_length - mfcc.shape[1]))\n",
    "        padded_mfcc = np.pad(mfcc, pad_width=pad_width, mode='constant', constant_values=0)\n",
    "        padded_mfcc_list.append(padded_mfcc)\n",
    "    else:\n",
    "        padded_mfcc_list.append(mfcc)\n",
    "\n",
    "# Stack the MFCC features for all repetitions of digit '7', Speaker 4\n",
    "\n",
    "digit_7_speaker_4 = np.stack(padded_mfcc_list, axis=0)\n",
    "print(digit_7_speaker_4.shape)"
   ]
  },
  {
   "cell_type": "code",
   "execution_count": 55,
   "id": "6eea288e",
   "metadata": {},
   "outputs": [
    {
     "name": "stdout",
     "output_type": "stream",
     "text": [
      "(5, 13, 32)\n"
     ]
    }
   ],
   "source": [
    " # Load Audio file From Training Folder\n",
    "\n",
    "# Speaker Id = 5, Digit = 7, All the Utterences\n",
    "\n",
    "audio_files = ['/Users/arnav/Desktop/Assignment/Assignment-5/training/speaker05_7_1.wav',\n",
    "              '/Users/arnav/Desktop/Assignment/Assignment-5/training/speaker05_7_2.wav',\n",
    "              '/Users/arnav/Desktop/Assignment/Assignment-5/training/speaker05_7_3.wav',\n",
    "              '/Users/arnav/Desktop/Assignment/Assignment-5/training/speaker05_7_4.wav',\n",
    "              '/Users/arnav/Desktop/Assignment/Assignment-5/training/speaker05_7_5.wav']\n",
    "\n",
    "mfcc_features = []\n",
    "max_length = 0\n",
    "\n",
    "for file_path in audio_files:\n",
    "    signal, sr = librosa.load(file_path)\n",
    "    mfcc = librosa.feature.mfcc(y = signal, sr=sr, n_mfcc=13)\n",
    "    mfcc_features.append(mfcc)\n",
    "    if mfcc.shape[1]>max_length :\n",
    "        max_length = mfcc.shape[1]\n",
    "        \n",
    "# Pad the MFCC coefficients with zeros\n",
    "\n",
    "padded_mfcc_list = []\n",
    "\n",
    "for mfcc in mfcc_features:\n",
    "    if mfcc.shape[1] < max_length:\n",
    "        pad_width = ((0, 0), (0, max_length - mfcc.shape[1]))\n",
    "        padded_mfcc = np.pad(mfcc, pad_width=pad_width, mode='constant', constant_values=0)\n",
    "        padded_mfcc_list.append(padded_mfcc)\n",
    "    else:\n",
    "        padded_mfcc_list.append(mfcc)\n",
    "\n",
    "# Stack the MFCC features for all repetitions of digit '7', Speaker 5\n",
    "\n",
    "digit_7_speaker_5 = np.stack(padded_mfcc_list, axis=0)\n",
    "print(digit_7_speaker_5.shape)"
   ]
  },
  {
   "cell_type": "code",
   "execution_count": 56,
   "id": "32764fcb",
   "metadata": {},
   "outputs": [
    {
     "name": "stdout",
     "output_type": "stream",
     "text": [
      "(5, 13, 32)\n"
     ]
    }
   ],
   "source": [
    " # Load Audio file From Training Folder\n",
    "\n",
    "# Speaker Id = 6, Digit = 7, All the Utterences\n",
    "\n",
    "audio_files = ['/Users/arnav/Desktop/Assignment/Assignment-5/training/speaker06_7_1.wav',\n",
    "              '/Users/arnav/Desktop/Assignment/Assignment-5/training/speaker06_7_2.wav',\n",
    "              '/Users/arnav/Desktop/Assignment/Assignment-5/training/speaker06_7_3.wav',\n",
    "              '/Users/arnav/Desktop/Assignment/Assignment-5/training/speaker06_7_4.wav',\n",
    "              '/Users/arnav/Desktop/Assignment/Assignment-5/training/speaker06_7_5.wav']\n",
    "\n",
    "mfcc_features = []\n",
    "max_length = 0\n",
    "\n",
    "for file_path in audio_files:\n",
    "    signal, sr = librosa.load(file_path)\n",
    "    mfcc = librosa.feature.mfcc(y = signal, sr=sr, n_mfcc=13)\n",
    "    mfcc_features.append(mfcc)\n",
    "    if mfcc.shape[1]>max_length :\n",
    "        max_length = mfcc.shape[1]\n",
    "        \n",
    "# Pad the MFCC coefficients with zeros\n",
    "\n",
    "padded_mfcc_list = []\n",
    "\n",
    "for mfcc in mfcc_features:\n",
    "    if mfcc.shape[1] < max_length:\n",
    "        pad_width = ((0, 0), (0, max_length - mfcc.shape[1]))\n",
    "        padded_mfcc = np.pad(mfcc, pad_width=pad_width, mode='constant', constant_values=0)\n",
    "        padded_mfcc_list.append(padded_mfcc)\n",
    "    else:\n",
    "        padded_mfcc_list.append(mfcc)\n",
    "\n",
    "# Stack the MFCC features for all repetitions of digit '7', Speaker 6\n",
    "\n",
    "digit_7_speaker_6 = np.stack(padded_mfcc_list, axis=0)\n",
    "print(digit_7_speaker_6.shape)"
   ]
  },
  {
   "cell_type": "code",
   "execution_count": 57,
   "id": "d3d28c89",
   "metadata": {},
   "outputs": [
    {
     "name": "stdout",
     "output_type": "stream",
     "text": [
      "(6, 5, 13, 35)\n"
     ]
    }
   ],
   "source": [
    "# Find the maximum size of the third dimension\n",
    "\n",
    "max_size = max(digit_7_speaker_1.shape[2], digit_7_speaker_2.shape[2], digit_7_speaker_3.shape[2], digit_7_speaker_4.shape[2], digit_7_speaker_5.shape[2], digit_7_speaker_6.shape[2])\n",
    "\n",
    "# Pad the arrays with zeros\n",
    "digit_7_speaker_1 = np.pad(digit_7_speaker_1, ((0,0),(0,0),(0,max_size-digit_7_speaker_1.shape[2])), mode='constant')\n",
    "digit_7_speaker_2 = np.pad(digit_7_speaker_2, ((0,0),(0,0),(0,max_size-digit_7_speaker_2.shape[2])), mode='constant')\n",
    "digit_7_speaker_3 = np.pad(digit_7_speaker_3, ((0,0),(0,0),(0,max_size-digit_7_speaker_3.shape[2])), mode='constant')\n",
    "digit_7_speaker_4 = np.pad(digit_7_speaker_4, ((0,0),(0,0),(0,max_size-digit_7_speaker_4.shape[2])), mode='constant')\n",
    "digit_7_speaker_5 = np.pad(digit_7_speaker_5, ((0,0),(0,0),(0,max_size-digit_7_speaker_5.shape[2])), mode='constant')\n",
    "digit_7_speaker_6 = np.pad(digit_7_speaker_6, ((0,0),(0,0),(0,max_size-digit_7_speaker_6.shape[2])), mode='constant')\n",
    "\n",
    "# Concatenate the padded arrays along the third axis\n",
    "digit_7_allspeaker = np.stack((digit_7_speaker_1, digit_7_speaker_2, digit_7_speaker_3, digit_7_speaker_4, digit_7_speaker_5, digit_7_speaker_6), axis=2)\n",
    "\n",
    "digit_7_allspeaker = np.transpose(digit_7_allspeaker, (2, 0, 1, 3))\n",
    "\n",
    "# Print the shape of the concatenated array\n",
    "print(digit_7_allspeaker.shape)\n"
   ]
  },
  {
   "cell_type": "markdown",
   "id": "6c3aadf8",
   "metadata": {},
   "source": [
    "# All Utterences for Digit \"8\""
   ]
  },
  {
   "cell_type": "code",
   "execution_count": 58,
   "id": "985a40aa",
   "metadata": {},
   "outputs": [
    {
     "name": "stdout",
     "output_type": "stream",
     "text": [
      "(5, 13, 34)\n"
     ]
    }
   ],
   "source": [
    " # Load Audio file From Training Folder\n",
    "\n",
    "# Speaker Id = 1, Digit = 8, All the Utterences\n",
    "\n",
    "audio_files = ['/Users/arnav/Desktop/Assignment/Assignment-5/training/speaker01_8_1.wav',\n",
    "              '/Users/arnav/Desktop/Assignment/Assignment-5/training/speaker01_8_2.wav',\n",
    "              '/Users/arnav/Desktop/Assignment/Assignment-5/training/speaker01_8_3.wav',\n",
    "              '/Users/arnav/Desktop/Assignment/Assignment-5/training/speaker01_8_4.wav',\n",
    "              '/Users/arnav/Desktop/Assignment/Assignment-5/training/speaker01_8_5.wav']\n",
    "\n",
    "mfcc_features = []\n",
    "max_length = 0\n",
    "\n",
    "for file_path in audio_files:\n",
    "    signal, sr = librosa.load(file_path)\n",
    "    mfcc = librosa.feature.mfcc(y = signal, sr=sr, n_mfcc=13)\n",
    "    mfcc_features.append(mfcc)\n",
    "    if mfcc.shape[1]>max_length :\n",
    "        max_length = mfcc.shape[1]\n",
    "        \n",
    "# Pad the MFCC coefficients with zeros\n",
    "\n",
    "padded_mfcc_list = []\n",
    "\n",
    "for mfcc in mfcc_features:\n",
    "    if mfcc.shape[1] < max_length:\n",
    "        pad_width = ((0, 0), (0, max_length - mfcc.shape[1]))\n",
    "        padded_mfcc = np.pad(mfcc, pad_width=pad_width, mode='constant', constant_values=0)\n",
    "        padded_mfcc_list.append(padded_mfcc)\n",
    "    else:\n",
    "        padded_mfcc_list.append(mfcc)\n",
    "\n",
    "# Stack the MFCC features for all repetitions of digit '8', Speaker 1\n",
    "\n",
    "digit_8_speaker_1 = np.stack(padded_mfcc_list, axis=0)\n",
    "print(digit_8_speaker_1.shape)"
   ]
  },
  {
   "cell_type": "code",
   "execution_count": 59,
   "id": "44fb5eec",
   "metadata": {},
   "outputs": [
    {
     "name": "stdout",
     "output_type": "stream",
     "text": [
      "(5, 13, 35)\n"
     ]
    }
   ],
   "source": [
    " # Load Audio file From Training Folder\n",
    "\n",
    "# Speaker Id = 2, Digit = 8, All the Utterences\n",
    "\n",
    "audio_files = ['/Users/arnav/Desktop/Assignment/Assignment-5/training/speaker02_8_1.wav',\n",
    "              '/Users/arnav/Desktop/Assignment/Assignment-5/training/speaker02_8_2.wav',\n",
    "              '/Users/arnav/Desktop/Assignment/Assignment-5/training/speaker02_8_3.wav',\n",
    "              '/Users/arnav/Desktop/Assignment/Assignment-5/training/speaker02_8_4.wav',\n",
    "              '/Users/arnav/Desktop/Assignment/Assignment-5/training/speaker02_8_5.wav']\n",
    "\n",
    "mfcc_features = []\n",
    "max_length = 0\n",
    "\n",
    "for file_path in audio_files:\n",
    "    signal, sr = librosa.load(file_path)\n",
    "    mfcc = librosa.feature.mfcc(y = signal, sr=sr, n_mfcc=13)\n",
    "    mfcc_features.append(mfcc)\n",
    "    if mfcc.shape[1]>max_length :\n",
    "        max_length = mfcc.shape[1]\n",
    "        \n",
    "# Pad the MFCC coefficients with zeros\n",
    "\n",
    "padded_mfcc_list = []\n",
    "\n",
    "for mfcc in mfcc_features:\n",
    "    if mfcc.shape[1] < max_length:\n",
    "        pad_width = ((0, 0), (0, max_length - mfcc.shape[1]))\n",
    "        padded_mfcc = np.pad(mfcc, pad_width=pad_width, mode='constant', constant_values=0)\n",
    "        padded_mfcc_list.append(padded_mfcc)\n",
    "    else:\n",
    "        padded_mfcc_list.append(mfcc)\n",
    "\n",
    "# Stack the MFCC features for all repetitions of digit '8', Speaker 2\n",
    "\n",
    "digit_8_speaker_2 = np.stack(padded_mfcc_list, axis=0)\n",
    "print(digit_8_speaker_2.shape)"
   ]
  },
  {
   "cell_type": "code",
   "execution_count": 60,
   "id": "2f473f6e",
   "metadata": {},
   "outputs": [
    {
     "name": "stdout",
     "output_type": "stream",
     "text": [
      "(5, 13, 30)\n"
     ]
    }
   ],
   "source": [
    " # Load Audio file From Training Folder\n",
    "\n",
    "# Speaker Id = 3, Digit = 8, All the Utterences\n",
    "\n",
    "audio_files = ['/Users/arnav/Desktop/Assignment/Assignment-5/training/speaker03_8_1.wav',\n",
    "              '/Users/arnav/Desktop/Assignment/Assignment-5/training/speaker03_8_2.wav',\n",
    "              '/Users/arnav/Desktop/Assignment/Assignment-5/training/speaker03_8_3.wav',\n",
    "              '/Users/arnav/Desktop/Assignment/Assignment-5/training/speaker03_8_4.wav',\n",
    "              '/Users/arnav/Desktop/Assignment/Assignment-5/training/speaker03_8_5.wav']\n",
    "\n",
    "mfcc_features = []\n",
    "max_length = 0\n",
    "\n",
    "for file_path in audio_files:\n",
    "    signal, sr = librosa.load(file_path)\n",
    "    mfcc = librosa.feature.mfcc(y = signal, sr=sr, n_mfcc=13)\n",
    "    mfcc_features.append(mfcc)\n",
    "    if mfcc.shape[1]>max_length :\n",
    "        max_length = mfcc.shape[1]\n",
    "        \n",
    "# Pad the MFCC coefficients with zeros\n",
    "\n",
    "padded_mfcc_list = []\n",
    "\n",
    "for mfcc in mfcc_features:\n",
    "    if mfcc.shape[1] < max_length:\n",
    "        pad_width = ((0, 0), (0, max_length - mfcc.shape[1]))\n",
    "        padded_mfcc = np.pad(mfcc, pad_width=pad_width, mode='constant', constant_values=0)\n",
    "        padded_mfcc_list.append(padded_mfcc)\n",
    "    else:\n",
    "        padded_mfcc_list.append(mfcc)\n",
    "\n",
    "# Stack the MFCC features for all repetitions of digit '8', Speaker 3\n",
    "\n",
    "digit_8_speaker_3 = np.stack(padded_mfcc_list, axis=0)\n",
    "print(digit_8_speaker_3.shape)"
   ]
  },
  {
   "cell_type": "code",
   "execution_count": 61,
   "id": "afe0f102",
   "metadata": {},
   "outputs": [
    {
     "name": "stdout",
     "output_type": "stream",
     "text": [
      "(5, 13, 29)\n"
     ]
    }
   ],
   "source": [
    " # Load Audio file From Training Folder\n",
    "\n",
    "# Speaker Id = 4, Digit = 8, All the Utterences\n",
    "\n",
    "audio_files = ['/Users/arnav/Desktop/Assignment/Assignment-5/training/speaker04_8_1.wav',\n",
    "              '/Users/arnav/Desktop/Assignment/Assignment-5/training/speaker04_8_2.wav',\n",
    "              '/Users/arnav/Desktop/Assignment/Assignment-5/training/speaker04_8_3.wav',\n",
    "              '/Users/arnav/Desktop/Assignment/Assignment-5/training/speaker04_8_4.wav',\n",
    "              '/Users/arnav/Desktop/Assignment/Assignment-5/training/speaker04_8_5.wav']\n",
    "\n",
    "mfcc_features = []\n",
    "max_length = 0\n",
    "\n",
    "for file_path in audio_files:\n",
    "    signal, sr = librosa.load(file_path)\n",
    "    mfcc = librosa.feature.mfcc(y = signal, sr=sr, n_mfcc=13)\n",
    "    mfcc_features.append(mfcc)\n",
    "    if mfcc.shape[1]>max_length :\n",
    "        max_length = mfcc.shape[1]\n",
    "        \n",
    "# Pad the MFCC coefficients with zeros\n",
    "\n",
    "padded_mfcc_list = []\n",
    "\n",
    "for mfcc in mfcc_features:\n",
    "    if mfcc.shape[1] < max_length:\n",
    "        pad_width = ((0, 0), (0, max_length - mfcc.shape[1]))\n",
    "        padded_mfcc = np.pad(mfcc, pad_width=pad_width, mode='constant', constant_values=0)\n",
    "        padded_mfcc_list.append(padded_mfcc)\n",
    "    else:\n",
    "        padded_mfcc_list.append(mfcc)\n",
    "\n",
    "# Stack the MFCC features for all repetitions of digit '8', Speaker 4\n",
    "\n",
    "digit_8_speaker_4 = np.stack(padded_mfcc_list, axis=0)\n",
    "print(digit_8_speaker_4.shape)"
   ]
  },
  {
   "cell_type": "code",
   "execution_count": 62,
   "id": "96770aee",
   "metadata": {},
   "outputs": [
    {
     "name": "stdout",
     "output_type": "stream",
     "text": [
      "(5, 13, 30)\n"
     ]
    }
   ],
   "source": [
    " # Load Audio file From Training Folder\n",
    "\n",
    "# Speaker Id = 5, Digit = 8, All the Utterences\n",
    "\n",
    "audio_files = ['/Users/arnav/Desktop/Assignment/Assignment-5/training/speaker05_8_1.wav',\n",
    "              '/Users/arnav/Desktop/Assignment/Assignment-5/training/speaker05_8_2.wav',\n",
    "              '/Users/arnav/Desktop/Assignment/Assignment-5/training/speaker05_8_3.wav',\n",
    "              '/Users/arnav/Desktop/Assignment/Assignment-5/training/speaker05_8_4.wav',\n",
    "              '/Users/arnav/Desktop/Assignment/Assignment-5/training/speaker05_8_5.wav']\n",
    "\n",
    "mfcc_features = []\n",
    "max_length = 0\n",
    "\n",
    "for file_path in audio_files:\n",
    "    signal, sr = librosa.load(file_path)\n",
    "    mfcc = librosa.feature.mfcc(y = signal, sr=sr, n_mfcc=13)\n",
    "    mfcc_features.append(mfcc)\n",
    "    if mfcc.shape[1]>max_length :\n",
    "        max_length = mfcc.shape[1]\n",
    "        \n",
    "# Pad the MFCC coefficients with zeros\n",
    "\n",
    "padded_mfcc_list = []\n",
    "\n",
    "for mfcc in mfcc_features:\n",
    "    if mfcc.shape[1] < max_length:\n",
    "        pad_width = ((0, 0), (0, max_length - mfcc.shape[1]))\n",
    "        padded_mfcc = np.pad(mfcc, pad_width=pad_width, mode='constant', constant_values=0)\n",
    "        padded_mfcc_list.append(padded_mfcc)\n",
    "    else:\n",
    "        padded_mfcc_list.append(mfcc)\n",
    "\n",
    "# Stack the MFCC features for all repetitions of digit '8', Speaker 5\n",
    "\n",
    "digit_8_speaker_5 = np.stack(padded_mfcc_list, axis=0)\n",
    "print(digit_8_speaker_5.shape)"
   ]
  },
  {
   "cell_type": "code",
   "execution_count": 63,
   "id": "25a8d52f",
   "metadata": {},
   "outputs": [
    {
     "name": "stdout",
     "output_type": "stream",
     "text": [
      "(5, 13, 31)\n"
     ]
    }
   ],
   "source": [
    " # Load Audio file From Training Folder\n",
    "\n",
    "# Speaker Id = 6, Digit = 8, All the Utterences\n",
    "\n",
    "audio_files = ['/Users/arnav/Desktop/Assignment/Assignment-5/training/speaker06_8_1.wav',\n",
    "              '/Users/arnav/Desktop/Assignment/Assignment-5/training/speaker06_8_2.wav',\n",
    "              '/Users/arnav/Desktop/Assignment/Assignment-5/training/speaker06_8_3.wav',\n",
    "              '/Users/arnav/Desktop/Assignment/Assignment-5/training/speaker06_8_4.wav',\n",
    "              '/Users/arnav/Desktop/Assignment/Assignment-5/training/speaker06_8_5.wav']\n",
    "\n",
    "mfcc_features = []\n",
    "max_length = 0\n",
    "\n",
    "for file_path in audio_files:\n",
    "    signal, sr = librosa.load(file_path)\n",
    "    mfcc = librosa.feature.mfcc(y = signal, sr=sr, n_mfcc=13)\n",
    "    mfcc_features.append(mfcc)\n",
    "    if mfcc.shape[1]>max_length :\n",
    "        max_length = mfcc.shape[1]\n",
    "        \n",
    "# Pad the MFCC coefficients with zeros\n",
    "\n",
    "padded_mfcc_list = []\n",
    "\n",
    "for mfcc in mfcc_features:\n",
    "    if mfcc.shape[1] < max_length:\n",
    "        pad_width = ((0, 0), (0, max_length - mfcc.shape[1]))\n",
    "        padded_mfcc = np.pad(mfcc, pad_width=pad_width, mode='constant', constant_values=0)\n",
    "        padded_mfcc_list.append(padded_mfcc)\n",
    "    else:\n",
    "        padded_mfcc_list.append(mfcc)\n",
    "\n",
    "# Stack the MFCC features for all repetitions of digit '8', Speaker 6\n",
    "\n",
    "digit_8_speaker_6 = np.stack(padded_mfcc_list, axis=0)\n",
    "print(digit_8_speaker_6.shape)"
   ]
  },
  {
   "cell_type": "code",
   "execution_count": 64,
   "id": "8d97d374",
   "metadata": {},
   "outputs": [
    {
     "name": "stdout",
     "output_type": "stream",
     "text": [
      "(6, 5, 13, 35)\n"
     ]
    }
   ],
   "source": [
    "# Find the maximum size of the third dimension\n",
    "\n",
    "max_size = max(digit_8_speaker_1.shape[2], digit_8_speaker_2.shape[2], digit_8_speaker_3.shape[2], digit_8_speaker_4.shape[2], digit_8_speaker_5.shape[2], digit_8_speaker_6.shape[2])\n",
    "\n",
    "# Pad the arrays with zeros\n",
    "digit_8_speaker_1 = np.pad(digit_8_speaker_1, ((0,0),(0,0),(0,max_size-digit_8_speaker_1.shape[2])), mode='constant')\n",
    "digit_8_speaker_2 = np.pad(digit_8_speaker_2, ((0,0),(0,0),(0,max_size-digit_8_speaker_2.shape[2])), mode='constant')\n",
    "digit_8_speaker_3 = np.pad(digit_8_speaker_3, ((0,0),(0,0),(0,max_size-digit_8_speaker_3.shape[2])), mode='constant')\n",
    "digit_8_speaker_4 = np.pad(digit_8_speaker_4, ((0,0),(0,0),(0,max_size-digit_8_speaker_4.shape[2])), mode='constant')\n",
    "digit_8_speaker_5 = np.pad(digit_8_speaker_5, ((0,0),(0,0),(0,max_size-digit_8_speaker_5.shape[2])), mode='constant')\n",
    "digit_8_speaker_6 = np.pad(digit_8_speaker_6, ((0,0),(0,0),(0,max_size-digit_8_speaker_6.shape[2])), mode='constant')\n",
    "\n",
    "# Concatenate the padded arrays along the third axis\n",
    "digit_8_allspeaker = np.stack((digit_8_speaker_1, digit_8_speaker_2, digit_8_speaker_3, digit_8_speaker_4, digit_8_speaker_5, digit_8_speaker_6), axis=2)\n",
    "\n",
    "digit_8_allspeaker = np.transpose(digit_8_allspeaker, (2, 0, 1, 3))\n",
    "\n",
    "# Print the shape of the concatenated array\n",
    "print(digit_8_allspeaker.shape)\n"
   ]
  },
  {
   "cell_type": "markdown",
   "id": "ff977f3a",
   "metadata": {},
   "source": [
    "# All Utterences for Digit \"9\""
   ]
  },
  {
   "cell_type": "code",
   "execution_count": 65,
   "id": "8c731925",
   "metadata": {},
   "outputs": [
    {
     "name": "stdout",
     "output_type": "stream",
     "text": [
      "(5, 13, 32)\n"
     ]
    }
   ],
   "source": [
    " # Load Audio file From Training Folder\n",
    "\n",
    "# Speaker Id = 1, Digit = 9, All the Utterences\n",
    "\n",
    "audio_files = ['/Users/arnav/Desktop/Assignment/Assignment-5/training/speaker01_9_1.wav',\n",
    "              '/Users/arnav/Desktop/Assignment/Assignment-5/training/speaker01_9_2.wav',\n",
    "              '/Users/arnav/Desktop/Assignment/Assignment-5/training/speaker01_9_3.wav',\n",
    "              '/Users/arnav/Desktop/Assignment/Assignment-5/training/speaker01_9_4.wav',\n",
    "              '/Users/arnav/Desktop/Assignment/Assignment-5/training/speaker01_9_5.wav']\n",
    "\n",
    "mfcc_features = []\n",
    "max_length = 0\n",
    "\n",
    "for file_path in audio_files:\n",
    "    signal, sr = librosa.load(file_path)\n",
    "    mfcc = librosa.feature.mfcc(y = signal, sr=sr, n_mfcc=13)\n",
    "    mfcc_features.append(mfcc)\n",
    "    if mfcc.shape[1]>max_length :\n",
    "        max_length = mfcc.shape[1]\n",
    "        \n",
    "# Pad the MFCC coefficients with zeros\n",
    "\n",
    "padded_mfcc_list = []\n",
    "\n",
    "for mfcc in mfcc_features:\n",
    "    if mfcc.shape[1] < max_length:\n",
    "        pad_width = ((0, 0), (0, max_length - mfcc.shape[1]))\n",
    "        padded_mfcc = np.pad(mfcc, pad_width=pad_width, mode='constant', constant_values=0)\n",
    "        padded_mfcc_list.append(padded_mfcc)\n",
    "    else:\n",
    "        padded_mfcc_list.append(mfcc)\n",
    "\n",
    "# Stack the MFCC features for all repetitions of digit '9', Speaker 1\n",
    "\n",
    "digit_9_speaker_1 = np.stack(padded_mfcc_list, axis=0)\n",
    "print(digit_9_speaker_1.shape)"
   ]
  },
  {
   "cell_type": "code",
   "execution_count": 66,
   "id": "dc667eab",
   "metadata": {},
   "outputs": [
    {
     "name": "stdout",
     "output_type": "stream",
     "text": [
      "(5, 13, 31)\n"
     ]
    }
   ],
   "source": [
    " # Load Audio file From Training Folder\n",
    "\n",
    "# Speaker Id = 2, Digit = 9, All the Utterences\n",
    "\n",
    "audio_files = ['/Users/arnav/Desktop/Assignment/Assignment-5/training/speaker02_9_1.wav',\n",
    "              '/Users/arnav/Desktop/Assignment/Assignment-5/training/speaker02_9_2.wav',\n",
    "              '/Users/arnav/Desktop/Assignment/Assignment-5/training/speaker02_9_3.wav',\n",
    "              '/Users/arnav/Desktop/Assignment/Assignment-5/training/speaker02_9_4.wav',\n",
    "              '/Users/arnav/Desktop/Assignment/Assignment-5/training/speaker02_9_5.wav']\n",
    "\n",
    "mfcc_features = []\n",
    "max_length = 0\n",
    "\n",
    "for file_path in audio_files:\n",
    "    signal, sr = librosa.load(file_path)\n",
    "    mfcc = librosa.feature.mfcc(y = signal, sr=sr, n_mfcc=13)\n",
    "    mfcc_features.append(mfcc)\n",
    "    if mfcc.shape[1]>max_length :\n",
    "        max_length = mfcc.shape[1]\n",
    "        \n",
    "# Pad the MFCC coefficients with zeros\n",
    "\n",
    "padded_mfcc_list = []\n",
    "\n",
    "for mfcc in mfcc_features:\n",
    "    if mfcc.shape[1] < max_length:\n",
    "        pad_width = ((0, 0), (0, max_length - mfcc.shape[1]))\n",
    "        padded_mfcc = np.pad(mfcc, pad_width=pad_width, mode='constant', constant_values=0)\n",
    "        padded_mfcc_list.append(padded_mfcc)\n",
    "    else:\n",
    "        padded_mfcc_list.append(mfcc)\n",
    "\n",
    "# Stack the MFCC features for all repetitions of digit '9', Speaker 2\n",
    "\n",
    "digit_9_speaker_2 = np.stack(padded_mfcc_list, axis=0)\n",
    "print(digit_9_speaker_2.shape)"
   ]
  },
  {
   "cell_type": "code",
   "execution_count": 67,
   "id": "554f2746",
   "metadata": {},
   "outputs": [
    {
     "name": "stdout",
     "output_type": "stream",
     "text": [
      "(5, 13, 32)\n"
     ]
    }
   ],
   "source": [
    " # Load Audio file From Training Folder\n",
    "\n",
    "# Speaker Id = 3, Digit = 9, All the Utterences\n",
    "\n",
    "audio_files = ['/Users/arnav/Desktop/Assignment/Assignment-5/training/speaker03_9_1.wav',\n",
    "              '/Users/arnav/Desktop/Assignment/Assignment-5/training/speaker03_9_2.wav',\n",
    "              '/Users/arnav/Desktop/Assignment/Assignment-5/training/speaker03_9_3.wav',\n",
    "              '/Users/arnav/Desktop/Assignment/Assignment-5/training/speaker03_9_4.wav',\n",
    "              '/Users/arnav/Desktop/Assignment/Assignment-5/training/speaker03_9_5.wav']\n",
    "\n",
    "mfcc_features = []\n",
    "max_length = 0\n",
    "\n",
    "for file_path in audio_files:\n",
    "    signal, sr = librosa.load(file_path)\n",
    "    mfcc = librosa.feature.mfcc(y = signal, sr=sr, n_mfcc=13)\n",
    "    mfcc_features.append(mfcc)\n",
    "    if mfcc.shape[1]>max_length :\n",
    "        max_length = mfcc.shape[1]\n",
    "        \n",
    "# Pad the MFCC coefficients with zeros\n",
    "\n",
    "padded_mfcc_list = []\n",
    "\n",
    "for mfcc in mfcc_features:\n",
    "    if mfcc.shape[1] < max_length:\n",
    "        pad_width = ((0, 0), (0, max_length - mfcc.shape[1]))\n",
    "        padded_mfcc = np.pad(mfcc, pad_width=pad_width, mode='constant', constant_values=0)\n",
    "        padded_mfcc_list.append(padded_mfcc)\n",
    "    else:\n",
    "        padded_mfcc_list.append(mfcc)\n",
    "\n",
    "# Stack the MFCC features for all repetitions of digit '9', Speaker 3\n",
    "\n",
    "digit_9_speaker_3 = np.stack(padded_mfcc_list, axis=0)\n",
    "print(digit_9_speaker_3.shape)"
   ]
  },
  {
   "cell_type": "code",
   "execution_count": 68,
   "id": "ea05cb62",
   "metadata": {},
   "outputs": [
    {
     "name": "stdout",
     "output_type": "stream",
     "text": [
      "(5, 13, 32)\n"
     ]
    }
   ],
   "source": [
    " # Load Audio file From Training Folder\n",
    "\n",
    "# Speaker Id = 4, Digit = 9, All the Utterences\n",
    "\n",
    "audio_files = ['/Users/arnav/Desktop/Assignment/Assignment-5/training/speaker04_9_1.wav',\n",
    "              '/Users/arnav/Desktop/Assignment/Assignment-5/training/speaker04_9_2.wav',\n",
    "              '/Users/arnav/Desktop/Assignment/Assignment-5/training/speaker04_9_3.wav',\n",
    "              '/Users/arnav/Desktop/Assignment/Assignment-5/training/speaker04_9_4.wav',\n",
    "              '/Users/arnav/Desktop/Assignment/Assignment-5/training/speaker04_9_5.wav']\n",
    "\n",
    "mfcc_features = []\n",
    "max_length = 0\n",
    "\n",
    "for file_path in audio_files:\n",
    "    signal, sr = librosa.load(file_path)\n",
    "    mfcc = librosa.feature.mfcc(y = signal, sr=sr, n_mfcc=13)\n",
    "    mfcc_features.append(mfcc)\n",
    "    if mfcc.shape[1]>max_length :\n",
    "        max_length = mfcc.shape[1]\n",
    "        \n",
    "# Pad the MFCC coefficients with zeros\n",
    "\n",
    "padded_mfcc_list = []\n",
    "\n",
    "for mfcc in mfcc_features:\n",
    "    if mfcc.shape[1] < max_length:\n",
    "        pad_width = ((0, 0), (0, max_length - mfcc.shape[1]))\n",
    "        padded_mfcc = np.pad(mfcc, pad_width=pad_width, mode='constant', constant_values=0)\n",
    "        padded_mfcc_list.append(padded_mfcc)\n",
    "    else:\n",
    "        padded_mfcc_list.append(mfcc)\n",
    "\n",
    "# Stack the MFCC features for all repetitions of digit '9', Speaker 4\n",
    "\n",
    "digit_9_speaker_4 = np.stack(padded_mfcc_list, axis=0)\n",
    "print(digit_9_speaker_4.shape)"
   ]
  },
  {
   "cell_type": "code",
   "execution_count": 69,
   "id": "ffb34249",
   "metadata": {},
   "outputs": [
    {
     "name": "stdout",
     "output_type": "stream",
     "text": [
      "(5, 13, 29)\n"
     ]
    }
   ],
   "source": [
    " # Load Audio file From Training Folder\n",
    "\n",
    "# Speaker Id = 5, Digit = 9, All the Utterences\n",
    "\n",
    "audio_files = ['/Users/arnav/Desktop/Assignment/Assignment-5/training/speaker05_9_1.wav',\n",
    "              '/Users/arnav/Desktop/Assignment/Assignment-5/training/speaker05_9_2.wav',\n",
    "              '/Users/arnav/Desktop/Assignment/Assignment-5/training/speaker05_9_3.wav',\n",
    "              '/Users/arnav/Desktop/Assignment/Assignment-5/training/speaker05_9_4.wav',\n",
    "              '/Users/arnav/Desktop/Assignment/Assignment-5/training/speaker05_9_5.wav']\n",
    "\n",
    "mfcc_features = []\n",
    "max_length = 0\n",
    "\n",
    "for file_path in audio_files:\n",
    "    signal, sr = librosa.load(file_path)\n",
    "    mfcc = librosa.feature.mfcc(y = signal, sr=sr, n_mfcc=13)\n",
    "    mfcc_features.append(mfcc)\n",
    "    if mfcc.shape[1]>max_length :\n",
    "        max_length = mfcc.shape[1]\n",
    "        \n",
    "# Pad the MFCC coefficients with zeros\n",
    "\n",
    "padded_mfcc_list = []\n",
    "\n",
    "for mfcc in mfcc_features:\n",
    "    if mfcc.shape[1] < max_length:\n",
    "        pad_width = ((0, 0), (0, max_length - mfcc.shape[1]))\n",
    "        padded_mfcc = np.pad(mfcc, pad_width=pad_width, mode='constant', constant_values=0)\n",
    "        padded_mfcc_list.append(padded_mfcc)\n",
    "    else:\n",
    "        padded_mfcc_list.append(mfcc)\n",
    "\n",
    "# Stack the MFCC features for all repetitions of digit '9', Speaker 5\n",
    "\n",
    "digit_9_speaker_5 = np.stack(padded_mfcc_list, axis=0)\n",
    "print(digit_9_speaker_5.shape)"
   ]
  },
  {
   "cell_type": "code",
   "execution_count": 70,
   "id": "fc290a67",
   "metadata": {},
   "outputs": [
    {
     "name": "stdout",
     "output_type": "stream",
     "text": [
      "(5, 13, 33)\n"
     ]
    }
   ],
   "source": [
    " # Load Audio file From Training Folder\n",
    "\n",
    "# Speaker Id = 6, Digit = 9, All the Utterences\n",
    "\n",
    "audio_files = ['/Users/arnav/Desktop/Assignment/Assignment-5/training/speaker06_9_1.wav',\n",
    "              '/Users/arnav/Desktop/Assignment/Assignment-5/training/speaker06_9_2.wav',\n",
    "              '/Users/arnav/Desktop/Assignment/Assignment-5/training/speaker06_9_3.wav',\n",
    "              '/Users/arnav/Desktop/Assignment/Assignment-5/training/speaker06_9_4.wav',\n",
    "              '/Users/arnav/Desktop/Assignment/Assignment-5/training/speaker06_9_5.wav']\n",
    "\n",
    "mfcc_features = []\n",
    "max_length = 0\n",
    "\n",
    "for file_path in audio_files:\n",
    "    signal, sr = librosa.load(file_path)\n",
    "    mfcc = librosa.feature.mfcc(y = signal, sr=sr, n_mfcc=13)\n",
    "    mfcc_features.append(mfcc)\n",
    "    if mfcc.shape[1]>max_length :\n",
    "        max_length = mfcc.shape[1]\n",
    "        \n",
    "# Pad the MFCC coefficients with zeros\n",
    "\n",
    "padded_mfcc_list = []\n",
    "\n",
    "for mfcc in mfcc_features:\n",
    "    if mfcc.shape[1] < max_length:\n",
    "        pad_width = ((0, 0), (0, max_length - mfcc.shape[1]))\n",
    "        padded_mfcc = np.pad(mfcc, pad_width=pad_width, mode='constant', constant_values=0)\n",
    "        padded_mfcc_list.append(padded_mfcc)\n",
    "    else:\n",
    "        padded_mfcc_list.append(mfcc)\n",
    "\n",
    "# Stack the MFCC features for all repetitions of digit '9', Speaker 6\n",
    "\n",
    "digit_9_speaker_6 = np.stack(padded_mfcc_list, axis=0)\n",
    "print(digit_9_speaker_6.shape)"
   ]
  },
  {
   "cell_type": "code",
   "execution_count": 76,
   "id": "77717c38",
   "metadata": {},
   "outputs": [
    {
     "name": "stdout",
     "output_type": "stream",
     "text": [
      "(6, 5, 13, 33)\n"
     ]
    }
   ],
   "source": [
    "# Find the maximum size of the third dimension\n",
    "\n",
    "max_size = max(digit_9_speaker_1.shape[2], digit_9_speaker_2.shape[2], digit_9_speaker_3.shape[2], digit_9_speaker_4.shape[2], digit_9_speaker_5.shape[2], digit_9_speaker_6.shape[2])\n",
    "\n",
    "# Pad the arrays with zeros\n",
    "digit_9_speaker_1 = np.pad(digit_9_speaker_1, ((0,0),(0,0),(0,max_size-digit_9_speaker_1.shape[2])), mode='constant')\n",
    "digit_9_speaker_2 = np.pad(digit_9_speaker_2, ((0,0),(0,0),(0,max_size-digit_9_speaker_2.shape[2])), mode='constant')\n",
    "digit_9_speaker_3 = np.pad(digit_9_speaker_3, ((0,0),(0,0),(0,max_size-digit_9_speaker_3.shape[2])), mode='constant')\n",
    "digit_9_speaker_4 = np.pad(digit_9_speaker_4, ((0,0),(0,0),(0,max_size-digit_9_speaker_4.shape[2])), mode='constant')\n",
    "digit_9_speaker_5 = np.pad(digit_9_speaker_5, ((0,0),(0,0),(0,max_size-digit_9_speaker_5.shape[2])), mode='constant')\n",
    "digit_9_speaker_6 = np.pad(digit_9_speaker_6, ((0,0),(0,0),(0,max_size-digit_9_speaker_6.shape[2])), mode='constant')\n",
    "\n",
    "# Concatenate the padded arrays along the third axis\n",
    "digit_9_allspeaker = np.stack((digit_9_speaker_1, digit_9_speaker_2, digit_9_speaker_3, digit_9_speaker_4, digit_9_speaker_5, digit_9_speaker_6), axis=2)\n",
    "\n",
    "digit_9_allspeaker = np.transpose(digit_9_allspeaker, (2, 0, 1, 3))\n",
    "\n",
    "# Print the shape of the concatenated array\n",
    "print(digit_9_allspeaker.shape)\n"
   ]
  },
  {
   "cell_type": "markdown",
   "id": "671c779b",
   "metadata": {},
   "source": [
    "# Perform K-means on the features of each class. Use the scikitlearn library for K-means clustering."
   ]
  },
  {
   "cell_type": "code",
   "execution_count": 90,
   "id": "ecff2031",
   "metadata": {},
   "outputs": [
    {
     "data": {
      "text/plain": [
       "(6, 2145)"
      ]
     },
     "execution_count": 90,
     "metadata": {},
     "output_type": "execute_result"
    }
   ],
   "source": [
    "# digit_9_allspeaker = digit_9_allspeaker.flatten()\n",
    "digit_9_allspeaker = digit_9_allspeaker.reshape(6, 429*5)\n",
    "digit_9_allspeaker.shape"
   ]
  },
  {
   "cell_type": "code",
   "execution_count": 91,
   "id": "90313371",
   "metadata": {},
   "outputs": [],
   "source": [
    "import matplotlib.pyplot as plt\n",
    "from sklearn.cluster import KMeans"
   ]
  },
  {
   "cell_type": "code",
   "execution_count": 101,
   "id": "08e3a408",
   "metadata": {},
   "outputs": [],
   "source": [
    "kmeans = KMeans(n_clusters=6)"
   ]
  },
  {
   "cell_type": "code",
   "execution_count": 93,
   "id": "0007a36f",
   "metadata": {},
   "outputs": [
    {
     "data": {
      "text/plain": [
       "KMeans(n_clusters=6)"
      ]
     },
     "execution_count": 93,
     "metadata": {},
     "output_type": "execute_result"
    }
   ],
   "source": [
    "kmeans.fit(digit_9_allspeaker)\n"
   ]
  },
  {
   "cell_type": "code",
   "execution_count": 96,
   "id": "fe064cb9",
   "metadata": {},
   "outputs": [],
   "source": [
    "centers = kmeans.cluster_centers_"
   ]
  },
  {
   "cell_type": "code",
   "execution_count": 97,
   "id": "1fd854b2",
   "metadata": {},
   "outputs": [
    {
     "ename": "ValueError",
     "evalue": "'c' argument has 6 elements, which is inconsistent with 'x' and 'y' with size 12870.",
     "output_type": "error",
     "traceback": [
      "\u001b[0;31m---------------------------------------------------------------------------\u001b[0m",
      "\u001b[0;31mValueError\u001b[0m                                Traceback (most recent call last)",
      "File \u001b[0;32m~/opt/anaconda3/lib/python3.9/site-packages/matplotlib/axes/_axes.py:4221\u001b[0m, in \u001b[0;36mAxes._parse_scatter_color_args\u001b[0;34m(c, edgecolors, kwargs, xsize, get_next_color_func)\u001b[0m\n\u001b[1;32m   4220\u001b[0m \u001b[38;5;28;01mtry\u001b[39;00m:  \u001b[38;5;66;03m# Is 'c' acceptable as PathCollection facecolors?\u001b[39;00m\n\u001b[0;32m-> 4221\u001b[0m     colors \u001b[38;5;241m=\u001b[39m \u001b[43mmcolors\u001b[49m\u001b[38;5;241;43m.\u001b[39;49m\u001b[43mto_rgba_array\u001b[49m\u001b[43m(\u001b[49m\u001b[43mc\u001b[49m\u001b[43m)\u001b[49m\n\u001b[1;32m   4222\u001b[0m \u001b[38;5;28;01mexcept\u001b[39;00m (\u001b[38;5;167;01mTypeError\u001b[39;00m, \u001b[38;5;167;01mValueError\u001b[39;00m) \u001b[38;5;28;01mas\u001b[39;00m err:\n",
      "File \u001b[0;32m~/opt/anaconda3/lib/python3.9/site-packages/matplotlib/colors.py:377\u001b[0m, in \u001b[0;36mto_rgba_array\u001b[0;34m(c, alpha)\u001b[0m\n\u001b[1;32m    376\u001b[0m \u001b[38;5;28;01melse\u001b[39;00m:\n\u001b[0;32m--> 377\u001b[0m     rgba \u001b[38;5;241m=\u001b[39m np\u001b[38;5;241m.\u001b[39marray([to_rgba(cc) \u001b[38;5;28;01mfor\u001b[39;00m cc \u001b[38;5;129;01min\u001b[39;00m c])\n\u001b[1;32m    379\u001b[0m \u001b[38;5;28;01mif\u001b[39;00m alpha \u001b[38;5;129;01mis\u001b[39;00m \u001b[38;5;129;01mnot\u001b[39;00m \u001b[38;5;28;01mNone\u001b[39;00m:\n",
      "File \u001b[0;32m~/opt/anaconda3/lib/python3.9/site-packages/matplotlib/colors.py:377\u001b[0m, in \u001b[0;36m<listcomp>\u001b[0;34m(.0)\u001b[0m\n\u001b[1;32m    376\u001b[0m \u001b[38;5;28;01melse\u001b[39;00m:\n\u001b[0;32m--> 377\u001b[0m     rgba \u001b[38;5;241m=\u001b[39m np\u001b[38;5;241m.\u001b[39marray([\u001b[43mto_rgba\u001b[49m\u001b[43m(\u001b[49m\u001b[43mcc\u001b[49m\u001b[43m)\u001b[49m \u001b[38;5;28;01mfor\u001b[39;00m cc \u001b[38;5;129;01min\u001b[39;00m c])\n\u001b[1;32m    379\u001b[0m \u001b[38;5;28;01mif\u001b[39;00m alpha \u001b[38;5;129;01mis\u001b[39;00m \u001b[38;5;129;01mnot\u001b[39;00m \u001b[38;5;28;01mNone\u001b[39;00m:\n",
      "File \u001b[0;32m~/opt/anaconda3/lib/python3.9/site-packages/matplotlib/colors.py:187\u001b[0m, in \u001b[0;36mto_rgba\u001b[0;34m(c, alpha)\u001b[0m\n\u001b[1;32m    186\u001b[0m \u001b[38;5;28;01mif\u001b[39;00m rgba \u001b[38;5;129;01mis\u001b[39;00m \u001b[38;5;28;01mNone\u001b[39;00m:  \u001b[38;5;66;03m# Suppress exception chaining of cache lookup failure.\u001b[39;00m\n\u001b[0;32m--> 187\u001b[0m     rgba \u001b[38;5;241m=\u001b[39m \u001b[43m_to_rgba_no_colorcycle\u001b[49m\u001b[43m(\u001b[49m\u001b[43mc\u001b[49m\u001b[43m,\u001b[49m\u001b[43m \u001b[49m\u001b[43malpha\u001b[49m\u001b[43m)\u001b[49m\n\u001b[1;32m    188\u001b[0m     \u001b[38;5;28;01mtry\u001b[39;00m:\n",
      "File \u001b[0;32m~/opt/anaconda3/lib/python3.9/site-packages/matplotlib/colors.py:269\u001b[0m, in \u001b[0;36m_to_rgba_no_colorcycle\u001b[0;34m(c, alpha)\u001b[0m\n\u001b[1;32m    268\u001b[0m \u001b[38;5;28;01mif\u001b[39;00m \u001b[38;5;129;01mnot\u001b[39;00m np\u001b[38;5;241m.\u001b[39miterable(c):\n\u001b[0;32m--> 269\u001b[0m     \u001b[38;5;28;01mraise\u001b[39;00m \u001b[38;5;167;01mValueError\u001b[39;00m(\u001b[38;5;124mf\u001b[39m\u001b[38;5;124m\"\u001b[39m\u001b[38;5;124mInvalid RGBA argument: \u001b[39m\u001b[38;5;132;01m{\u001b[39;00morig_c\u001b[38;5;132;01m!r}\u001b[39;00m\u001b[38;5;124m\"\u001b[39m)\n\u001b[1;32m    270\u001b[0m \u001b[38;5;28;01mif\u001b[39;00m \u001b[38;5;28mlen\u001b[39m(c) \u001b[38;5;129;01mnot\u001b[39;00m \u001b[38;5;129;01min\u001b[39;00m [\u001b[38;5;241m3\u001b[39m, \u001b[38;5;241m4\u001b[39m]:\n",
      "\u001b[0;31mValueError\u001b[0m: Invalid RGBA argument: 3.0",
      "\nThe above exception was the direct cause of the following exception:\n",
      "\u001b[0;31mValueError\u001b[0m                                Traceback (most recent call last)",
      "Input \u001b[0;32mIn [97]\u001b[0m, in \u001b[0;36m<cell line: 1>\u001b[0;34m()\u001b[0m\n\u001b[0;32m----> 1\u001b[0m \u001b[43mplt\u001b[49m\u001b[38;5;241;43m.\u001b[39;49m\u001b[43mscatter\u001b[49m\u001b[43m(\u001b[49m\u001b[43mdigit_9_allspeaker\u001b[49m\u001b[43m,\u001b[49m\u001b[43m \u001b[49m\u001b[43mnp\u001b[49m\u001b[38;5;241;43m.\u001b[39;49m\u001b[43mzeros_like\u001b[49m\u001b[43m(\u001b[49m\u001b[43mdigit_9_allspeaker\u001b[49m\u001b[43m)\u001b[49m\u001b[43m,\u001b[49m\u001b[43m \u001b[49m\u001b[43mc\u001b[49m\u001b[38;5;241;43m=\u001b[39;49m\u001b[43mkmeans\u001b[49m\u001b[38;5;241;43m.\u001b[39;49m\u001b[43mlabels_\u001b[49m\u001b[43m,\u001b[49m\u001b[43m \u001b[49m\u001b[43mcmap\u001b[49m\u001b[38;5;241;43m=\u001b[39;49m\u001b[38;5;124;43m'\u001b[39;49m\u001b[38;5;124;43mviridis\u001b[39;49m\u001b[38;5;124;43m'\u001b[39;49m\u001b[43m)\u001b[49m\n\u001b[1;32m      2\u001b[0m plt\u001b[38;5;241m.\u001b[39mscatter(centers, np\u001b[38;5;241m.\u001b[39mzeros_like(centers), marker\u001b[38;5;241m=\u001b[39m\u001b[38;5;124m'\u001b[39m\u001b[38;5;124mx\u001b[39m\u001b[38;5;124m'\u001b[39m, s\u001b[38;5;241m=\u001b[39m\u001b[38;5;241m200\u001b[39m, linewidths\u001b[38;5;241m=\u001b[39m\u001b[38;5;241m3\u001b[39m, color\u001b[38;5;241m=\u001b[39m\u001b[38;5;124m'\u001b[39m\u001b[38;5;124mr\u001b[39m\u001b[38;5;124m'\u001b[39m)\n\u001b[1;32m      3\u001b[0m plt\u001b[38;5;241m.\u001b[39mshow()\n",
      "File \u001b[0;32m~/opt/anaconda3/lib/python3.9/site-packages/matplotlib/pyplot.py:2807\u001b[0m, in \u001b[0;36mscatter\u001b[0;34m(x, y, s, c, marker, cmap, norm, vmin, vmax, alpha, linewidths, edgecolors, plotnonfinite, data, **kwargs)\u001b[0m\n\u001b[1;32m   2802\u001b[0m \u001b[38;5;129m@_copy_docstring_and_deprecators\u001b[39m(Axes\u001b[38;5;241m.\u001b[39mscatter)\n\u001b[1;32m   2803\u001b[0m \u001b[38;5;28;01mdef\u001b[39;00m \u001b[38;5;21mscatter\u001b[39m(\n\u001b[1;32m   2804\u001b[0m         x, y, s\u001b[38;5;241m=\u001b[39m\u001b[38;5;28;01mNone\u001b[39;00m, c\u001b[38;5;241m=\u001b[39m\u001b[38;5;28;01mNone\u001b[39;00m, marker\u001b[38;5;241m=\u001b[39m\u001b[38;5;28;01mNone\u001b[39;00m, cmap\u001b[38;5;241m=\u001b[39m\u001b[38;5;28;01mNone\u001b[39;00m, norm\u001b[38;5;241m=\u001b[39m\u001b[38;5;28;01mNone\u001b[39;00m,\n\u001b[1;32m   2805\u001b[0m         vmin\u001b[38;5;241m=\u001b[39m\u001b[38;5;28;01mNone\u001b[39;00m, vmax\u001b[38;5;241m=\u001b[39m\u001b[38;5;28;01mNone\u001b[39;00m, alpha\u001b[38;5;241m=\u001b[39m\u001b[38;5;28;01mNone\u001b[39;00m, linewidths\u001b[38;5;241m=\u001b[39m\u001b[38;5;28;01mNone\u001b[39;00m, \u001b[38;5;241m*\u001b[39m,\n\u001b[1;32m   2806\u001b[0m         edgecolors\u001b[38;5;241m=\u001b[39m\u001b[38;5;28;01mNone\u001b[39;00m, plotnonfinite\u001b[38;5;241m=\u001b[39m\u001b[38;5;28;01mFalse\u001b[39;00m, data\u001b[38;5;241m=\u001b[39m\u001b[38;5;28;01mNone\u001b[39;00m, \u001b[38;5;241m*\u001b[39m\u001b[38;5;241m*\u001b[39mkwargs):\n\u001b[0;32m-> 2807\u001b[0m     __ret \u001b[38;5;241m=\u001b[39m \u001b[43mgca\u001b[49m\u001b[43m(\u001b[49m\u001b[43m)\u001b[49m\u001b[38;5;241;43m.\u001b[39;49m\u001b[43mscatter\u001b[49m\u001b[43m(\u001b[49m\n\u001b[1;32m   2808\u001b[0m \u001b[43m        \u001b[49m\u001b[43mx\u001b[49m\u001b[43m,\u001b[49m\u001b[43m \u001b[49m\u001b[43my\u001b[49m\u001b[43m,\u001b[49m\u001b[43m \u001b[49m\u001b[43ms\u001b[49m\u001b[38;5;241;43m=\u001b[39;49m\u001b[43ms\u001b[49m\u001b[43m,\u001b[49m\u001b[43m \u001b[49m\u001b[43mc\u001b[49m\u001b[38;5;241;43m=\u001b[39;49m\u001b[43mc\u001b[49m\u001b[43m,\u001b[49m\u001b[43m \u001b[49m\u001b[43mmarker\u001b[49m\u001b[38;5;241;43m=\u001b[39;49m\u001b[43mmarker\u001b[49m\u001b[43m,\u001b[49m\u001b[43m \u001b[49m\u001b[43mcmap\u001b[49m\u001b[38;5;241;43m=\u001b[39;49m\u001b[43mcmap\u001b[49m\u001b[43m,\u001b[49m\u001b[43m \u001b[49m\u001b[43mnorm\u001b[49m\u001b[38;5;241;43m=\u001b[39;49m\u001b[43mnorm\u001b[49m\u001b[43m,\u001b[49m\n\u001b[1;32m   2809\u001b[0m \u001b[43m        \u001b[49m\u001b[43mvmin\u001b[49m\u001b[38;5;241;43m=\u001b[39;49m\u001b[43mvmin\u001b[49m\u001b[43m,\u001b[49m\u001b[43m \u001b[49m\u001b[43mvmax\u001b[49m\u001b[38;5;241;43m=\u001b[39;49m\u001b[43mvmax\u001b[49m\u001b[43m,\u001b[49m\u001b[43m \u001b[49m\u001b[43malpha\u001b[49m\u001b[38;5;241;43m=\u001b[39;49m\u001b[43malpha\u001b[49m\u001b[43m,\u001b[49m\u001b[43m \u001b[49m\u001b[43mlinewidths\u001b[49m\u001b[38;5;241;43m=\u001b[39;49m\u001b[43mlinewidths\u001b[49m\u001b[43m,\u001b[49m\n\u001b[1;32m   2810\u001b[0m \u001b[43m        \u001b[49m\u001b[43medgecolors\u001b[49m\u001b[38;5;241;43m=\u001b[39;49m\u001b[43medgecolors\u001b[49m\u001b[43m,\u001b[49m\u001b[43m \u001b[49m\u001b[43mplotnonfinite\u001b[49m\u001b[38;5;241;43m=\u001b[39;49m\u001b[43mplotnonfinite\u001b[49m\u001b[43m,\u001b[49m\n\u001b[1;32m   2811\u001b[0m \u001b[43m        \u001b[49m\u001b[38;5;241;43m*\u001b[39;49m\u001b[38;5;241;43m*\u001b[39;49m\u001b[43m(\u001b[49m\u001b[43m{\u001b[49m\u001b[38;5;124;43m\"\u001b[39;49m\u001b[38;5;124;43mdata\u001b[39;49m\u001b[38;5;124;43m\"\u001b[39;49m\u001b[43m:\u001b[49m\u001b[43m \u001b[49m\u001b[43mdata\u001b[49m\u001b[43m}\u001b[49m\u001b[43m \u001b[49m\u001b[38;5;28;43;01mif\u001b[39;49;00m\u001b[43m \u001b[49m\u001b[43mdata\u001b[49m\u001b[43m \u001b[49m\u001b[38;5;129;43;01mis\u001b[39;49;00m\u001b[43m \u001b[49m\u001b[38;5;129;43;01mnot\u001b[39;49;00m\u001b[43m \u001b[49m\u001b[38;5;28;43;01mNone\u001b[39;49;00m\u001b[43m \u001b[49m\u001b[38;5;28;43;01melse\u001b[39;49;00m\u001b[43m \u001b[49m\u001b[43m{\u001b[49m\u001b[43m}\u001b[49m\u001b[43m)\u001b[49m\u001b[43m,\u001b[49m\u001b[43m \u001b[49m\u001b[38;5;241;43m*\u001b[39;49m\u001b[38;5;241;43m*\u001b[39;49m\u001b[43mkwargs\u001b[49m\u001b[43m)\u001b[49m\n\u001b[1;32m   2812\u001b[0m     sci(__ret)\n\u001b[1;32m   2813\u001b[0m     \u001b[38;5;28;01mreturn\u001b[39;00m __ret\n",
      "File \u001b[0;32m~/opt/anaconda3/lib/python3.9/site-packages/matplotlib/__init__.py:1412\u001b[0m, in \u001b[0;36m_preprocess_data.<locals>.inner\u001b[0;34m(ax, data, *args, **kwargs)\u001b[0m\n\u001b[1;32m   1409\u001b[0m \u001b[38;5;129m@functools\u001b[39m\u001b[38;5;241m.\u001b[39mwraps(func)\n\u001b[1;32m   1410\u001b[0m \u001b[38;5;28;01mdef\u001b[39;00m \u001b[38;5;21minner\u001b[39m(ax, \u001b[38;5;241m*\u001b[39margs, data\u001b[38;5;241m=\u001b[39m\u001b[38;5;28;01mNone\u001b[39;00m, \u001b[38;5;241m*\u001b[39m\u001b[38;5;241m*\u001b[39mkwargs):\n\u001b[1;32m   1411\u001b[0m     \u001b[38;5;28;01mif\u001b[39;00m data \u001b[38;5;129;01mis\u001b[39;00m \u001b[38;5;28;01mNone\u001b[39;00m:\n\u001b[0;32m-> 1412\u001b[0m         \u001b[38;5;28;01mreturn\u001b[39;00m \u001b[43mfunc\u001b[49m\u001b[43m(\u001b[49m\u001b[43max\u001b[49m\u001b[43m,\u001b[49m\u001b[43m \u001b[49m\u001b[38;5;241;43m*\u001b[39;49m\u001b[38;5;28;43mmap\u001b[39;49m\u001b[43m(\u001b[49m\u001b[43msanitize_sequence\u001b[49m\u001b[43m,\u001b[49m\u001b[43m \u001b[49m\u001b[43margs\u001b[49m\u001b[43m)\u001b[49m\u001b[43m,\u001b[49m\u001b[43m \u001b[49m\u001b[38;5;241;43m*\u001b[39;49m\u001b[38;5;241;43m*\u001b[39;49m\u001b[43mkwargs\u001b[49m\u001b[43m)\u001b[49m\n\u001b[1;32m   1414\u001b[0m     bound \u001b[38;5;241m=\u001b[39m new_sig\u001b[38;5;241m.\u001b[39mbind(ax, \u001b[38;5;241m*\u001b[39margs, \u001b[38;5;241m*\u001b[39m\u001b[38;5;241m*\u001b[39mkwargs)\n\u001b[1;32m   1415\u001b[0m     auto_label \u001b[38;5;241m=\u001b[39m (bound\u001b[38;5;241m.\u001b[39marguments\u001b[38;5;241m.\u001b[39mget(label_namer)\n\u001b[1;32m   1416\u001b[0m                   \u001b[38;5;129;01mor\u001b[39;00m bound\u001b[38;5;241m.\u001b[39mkwargs\u001b[38;5;241m.\u001b[39mget(label_namer))\n",
      "File \u001b[0;32m~/opt/anaconda3/lib/python3.9/site-packages/matplotlib/axes/_axes.py:4387\u001b[0m, in \u001b[0;36mAxes.scatter\u001b[0;34m(self, x, y, s, c, marker, cmap, norm, vmin, vmax, alpha, linewidths, edgecolors, plotnonfinite, **kwargs)\u001b[0m\n\u001b[1;32m   4384\u001b[0m \u001b[38;5;28;01mif\u001b[39;00m edgecolors \u001b[38;5;129;01mis\u001b[39;00m \u001b[38;5;28;01mNone\u001b[39;00m:\n\u001b[1;32m   4385\u001b[0m     orig_edgecolor \u001b[38;5;241m=\u001b[39m kwargs\u001b[38;5;241m.\u001b[39mget(\u001b[38;5;124m'\u001b[39m\u001b[38;5;124medgecolor\u001b[39m\u001b[38;5;124m'\u001b[39m, \u001b[38;5;28;01mNone\u001b[39;00m)\n\u001b[1;32m   4386\u001b[0m c, colors, edgecolors \u001b[38;5;241m=\u001b[39m \\\n\u001b[0;32m-> 4387\u001b[0m     \u001b[38;5;28;43mself\u001b[39;49m\u001b[38;5;241;43m.\u001b[39;49m\u001b[43m_parse_scatter_color_args\u001b[49m\u001b[43m(\u001b[49m\n\u001b[1;32m   4388\u001b[0m \u001b[43m        \u001b[49m\u001b[43mc\u001b[49m\u001b[43m,\u001b[49m\u001b[43m \u001b[49m\u001b[43medgecolors\u001b[49m\u001b[43m,\u001b[49m\u001b[43m \u001b[49m\u001b[43mkwargs\u001b[49m\u001b[43m,\u001b[49m\u001b[43m \u001b[49m\u001b[43mx\u001b[49m\u001b[38;5;241;43m.\u001b[39;49m\u001b[43msize\u001b[49m\u001b[43m,\u001b[49m\n\u001b[1;32m   4389\u001b[0m \u001b[43m        \u001b[49m\u001b[43mget_next_color_func\u001b[49m\u001b[38;5;241;43m=\u001b[39;49m\u001b[38;5;28;43mself\u001b[39;49m\u001b[38;5;241;43m.\u001b[39;49m\u001b[43m_get_patches_for_fill\u001b[49m\u001b[38;5;241;43m.\u001b[39;49m\u001b[43mget_next_color\u001b[49m\u001b[43m)\u001b[49m\n\u001b[1;32m   4391\u001b[0m \u001b[38;5;28;01mif\u001b[39;00m plotnonfinite \u001b[38;5;129;01mand\u001b[39;00m colors \u001b[38;5;129;01mis\u001b[39;00m \u001b[38;5;28;01mNone\u001b[39;00m:\n\u001b[1;32m   4392\u001b[0m     c \u001b[38;5;241m=\u001b[39m np\u001b[38;5;241m.\u001b[39mma\u001b[38;5;241m.\u001b[39mmasked_invalid(c)\n",
      "File \u001b[0;32m~/opt/anaconda3/lib/python3.9/site-packages/matplotlib/axes/_axes.py:4227\u001b[0m, in \u001b[0;36mAxes._parse_scatter_color_args\u001b[0;34m(c, edgecolors, kwargs, xsize, get_next_color_func)\u001b[0m\n\u001b[1;32m   4225\u001b[0m \u001b[38;5;28;01melse\u001b[39;00m:\n\u001b[1;32m   4226\u001b[0m     \u001b[38;5;28;01mif\u001b[39;00m \u001b[38;5;129;01mnot\u001b[39;00m valid_shape:\n\u001b[0;32m-> 4227\u001b[0m         \u001b[38;5;28;01mraise\u001b[39;00m invalid_shape_exception(c\u001b[38;5;241m.\u001b[39msize, xsize) \u001b[38;5;28;01mfrom\u001b[39;00m \u001b[38;5;21;01merr\u001b[39;00m\n\u001b[1;32m   4228\u001b[0m     \u001b[38;5;66;03m# Both the mapping *and* the RGBA conversion failed: pretty\u001b[39;00m\n\u001b[1;32m   4229\u001b[0m     \u001b[38;5;66;03m# severe failure => one may appreciate a verbose feedback.\u001b[39;00m\n\u001b[1;32m   4230\u001b[0m     \u001b[38;5;28;01mraise\u001b[39;00m \u001b[38;5;167;01mValueError\u001b[39;00m(\n\u001b[1;32m   4231\u001b[0m         \u001b[38;5;124mf\u001b[39m\u001b[38;5;124m\"\u001b[39m\u001b[38;5;124m'\u001b[39m\u001b[38;5;124mc\u001b[39m\u001b[38;5;124m'\u001b[39m\u001b[38;5;124m argument must be a color, a sequence of colors, \u001b[39m\u001b[38;5;124m\"\u001b[39m\n\u001b[1;32m   4232\u001b[0m         \u001b[38;5;124mf\u001b[39m\u001b[38;5;124m\"\u001b[39m\u001b[38;5;124mor a sequence of numbers, not \u001b[39m\u001b[38;5;132;01m{\u001b[39;00mc\u001b[38;5;132;01m}\u001b[39;00m\u001b[38;5;124m\"\u001b[39m) \u001b[38;5;28;01mfrom\u001b[39;00m \u001b[38;5;21;01merr\u001b[39;00m\n",
      "\u001b[0;31mValueError\u001b[0m: 'c' argument has 6 elements, which is inconsistent with 'x' and 'y' with size 12870."
     ]
    },
    {
     "data": {
      "image/png": "[encoded data removed]",
      "text/plain": [
       "<Figure size 432x288 with 1 Axes>"
      ]
     },
     "metadata": {
      "needs_background": "light"
     },
     "output_type": "display_data"
    }
   ],
   "source": [
    "plt.scatter(digit_9_allspeaker, np.zeros_like(digit_9_allspeaker), c=kmeans.labels_, cmap='viridis')\n",
    "plt.scatter(centers, np.zeros_like(centers), marker='x', s=200, linewidths=3, color='r')\n",
    "plt.show()"
   ]
  },
  {
   "cell_type": "code",
   "execution_count": null,
   "id": "82984f9c",
   "metadata": {},
   "outputs": [],
   "source": []
  }
 ],
 "metadata": {
  "kernelspec": {
   "display_name": "Python 3 (ipykernel)",
   "language": "python",
   "name": "python3"
  },
  "language_info": {
   "codemirror_mode": {
    "name": "ipython",
    "version": 3
   },
   "file_extension": ".py",
   "mimetype": "text/x-python",
   "name": "python",
   "nbconvert_exporter": "python",
   "pygments_lexer": "ipython3",
   "version": "3.9.12"
  }
 },
 "nbformat": 4,
 "nbformat_minor": 5
}
